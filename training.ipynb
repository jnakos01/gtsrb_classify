{
 "cells": [
  {
   "cell_type": "code",
   "execution_count": null,
   "id": "0c58431b-5276-44a1-a16b-a528359d4d18",
   "metadata": {},
   "outputs": [],
   "source": []
  }
 ],
 "metadata": {
  "kernelspec": {
   "display_name": "",
   "name": ""
  },
  "language_info": {
   "name": ""
  }
 },
 "nbformat": 4,
 "nbformat_minor": 5
}
