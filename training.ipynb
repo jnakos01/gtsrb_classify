{
 "cells": [
  {
   "cell_type": "markdown",
   "id": "04c4e944",
   "metadata": {},
   "source": [
    "## Import libraries and load data\n"
   ]
  },
  {
   "cell_type": "code",
   "execution_count": 1,
   "id": "1f516a6f",
   "metadata": {},
   "outputs": [],
   "source": [
    "import pandas as pd\n",
    "import numpy as np\n",
    "from sklearn.feature_selection import mutual_info_classif\n",
    "from sklearn.feature_selection import VarianceThreshold\n",
    "from sklearn.preprocessing import StandardScaler, OneHotEncoder\n",
    "from sklearn.model_selection import StratifiedKFold, cross_val_score\n",
    "from sklearn.svm import SVC\n",
    "from sklearn.ensemble import RandomForestClassifier\n",
    "from sklearn.ensemble import StackingClassifier\n",
    "from sklearn.pipeline import Pipeline\n",
    "from sklearn.linear_model import LogisticRegression\n",
    "from sklearn.base import clone\n",
    "\n",
    "from sklearn.model_selection import GridSearchCV\n",
    "\n",
    "import matplotlib.pyplot as plt\n",
    "\n",
    "\n",
    "\n",
    "\n",
    "seed = 1462474\n",
    "np.random.seed(seed)"
   ]
  },
  {
   "cell_type": "code",
   "execution_count": 6,
   "id": "6944efaf",
   "metadata": {},
   "outputs": [],
   "source": [
    "data_path = \"data/train/Features/all_features.csv\"\n",
    "train_df = pd.read_csv(data_path) \n"
   ]
  },
  {
   "cell_type": "code",
   "execution_count": 7,
   "id": "f51432f7",
   "metadata": {},
   "outputs": [],
   "source": [
    "# Split the data into features and output\n",
    "y = train_df[\"ClassId\"]\n",
    "X = train_df.drop(columns=[\"ClassId\", \"image_path\"])"
   ]
  },
  {
   "cell_type": "markdown",
   "id": "2b7248f6",
   "metadata": {},
   "source": [
    "## Feature Selection"
   ]
  },
  {
   "cell_type": "code",
   "execution_count": 16,
   "id": "0c58431b-5276-44a1-a16b-a528359d4d18",
   "metadata": {},
   "outputs": [
    {
     "name": "stdout",
     "output_type": "stream",
     "text": [
      "hog_pca_0          0.882652\n",
      "hog_pca_3          0.796677\n",
      "Edge_Hist_Bin_6    0.596259\n",
      "Edge_Hist_Bin_2    0.566049\n",
      "hog_pca_1          0.554871\n",
      "Edge_Hist_Bin_7    0.530975\n",
      "Edge_Hist_Bin_3    0.519416\n",
      "hog_pca_2          0.493234\n",
      "Edge_Hist_Bin_5    0.429996\n",
      "H_hist_bin_16      0.402010\n",
      "dtype: float64\n"
     ]
    }
   ],
   "source": [
    "# Since our data is mostly continuous, we will use mutual information to select features\n",
    "\n",
    "# CHANGE NN while testing\n",
    "mi_array = mutual_info_classif(X, y, random_state=0, n_neighbors= 7)\n",
    "\n",
    "# Convert to series\n",
    "mi_series = pd.Series(mi_array, index=X.columns)\n",
    "\n",
    "# Sort features by importance\n",
    "mi_sorted = mi_series.sort_values(ascending=False)\n",
    "\n",
    "# Show top features\n",
    "print(mi_sorted.head(10))  \n",
    "\n",
    "# Select features with values over 0.15\n",
    "top_features = mi_sorted.index[mi_sorted > 0.1]\n",
    "X_selected = X[top_features]\n",
    "\n"
   ]
  },
  {
   "cell_type": "code",
   "execution_count": 11,
   "id": "ec00ecc6",
   "metadata": {},
   "outputs": [
    {
     "data": {
      "text/html": [
       "<div>\n",
       "<style scoped>\n",
       "    .dataframe tbody tr th:only-of-type {\n",
       "        vertical-align: middle;\n",
       "    }\n",
       "\n",
       "    .dataframe tbody tr th {\n",
       "        vertical-align: top;\n",
       "    }\n",
       "\n",
       "    .dataframe thead th {\n",
       "        text-align: right;\n",
       "    }\n",
       "</style>\n",
       "<table border=\"1\" class=\"dataframe\">\n",
       "  <thead>\n",
       "    <tr style=\"text-align: right;\">\n",
       "      <th></th>\n",
       "      <th>hog_pca_0</th>\n",
       "      <th>hog_pca_3</th>\n",
       "      <th>Edge_Hist_Bin_6</th>\n",
       "      <th>Edge_Hist_Bin_2</th>\n",
       "      <th>hog_pca_1</th>\n",
       "      <th>Edge_Hist_Bin_7</th>\n",
       "      <th>Edge_Hist_Bin_3</th>\n",
       "      <th>hog_pca_2</th>\n",
       "      <th>Edge_Hist_Bin_5</th>\n",
       "      <th>H_hist_bin_16</th>\n",
       "      <th>...</th>\n",
       "      <th>hog_pca_16</th>\n",
       "      <th>ch_15</th>\n",
       "      <th>S_hist_bin_14</th>\n",
       "      <th>ch_34</th>\n",
       "      <th>hog_pca_14</th>\n",
       "      <th>ch_40</th>\n",
       "      <th>V_hist_bin_13</th>\n",
       "      <th>ch_33</th>\n",
       "      <th>ch_17</th>\n",
       "      <th>hog_pca_15</th>\n",
       "    </tr>\n",
       "  </thead>\n",
       "  <tbody>\n",
       "    <tr>\n",
       "      <th>0</th>\n",
       "      <td>-0.763458</td>\n",
       "      <td>-0.638673</td>\n",
       "      <td>0.038306</td>\n",
       "      <td>0.199623</td>\n",
       "      <td>0.927880</td>\n",
       "      <td>0.060268</td>\n",
       "      <td>0.256466</td>\n",
       "      <td>0.264329</td>\n",
       "      <td>0.111521</td>\n",
       "      <td>0.022676</td>\n",
       "      <td>...</td>\n",
       "      <td>-0.213796</td>\n",
       "      <td>0.054894</td>\n",
       "      <td>0.000000</td>\n",
       "      <td>0.335851</td>\n",
       "      <td>-0.979620</td>\n",
       "      <td>0.095503</td>\n",
       "      <td>0.000000</td>\n",
       "      <td>0.002388</td>\n",
       "      <td>0.105810</td>\n",
       "      <td>0.450825</td>\n",
       "    </tr>\n",
       "    <tr>\n",
       "      <th>1</th>\n",
       "      <td>1.049284</td>\n",
       "      <td>0.904380</td>\n",
       "      <td>0.047018</td>\n",
       "      <td>0.185522</td>\n",
       "      <td>3.608200</td>\n",
       "      <td>0.233097</td>\n",
       "      <td>0.071324</td>\n",
       "      <td>-1.817190</td>\n",
       "      <td>0.112443</td>\n",
       "      <td>0.183350</td>\n",
       "      <td>...</td>\n",
       "      <td>-0.886182</td>\n",
       "      <td>0.012467</td>\n",
       "      <td>0.000000</td>\n",
       "      <td>0.070214</td>\n",
       "      <td>0.101737</td>\n",
       "      <td>0.024119</td>\n",
       "      <td>0.000000</td>\n",
       "      <td>0.000000</td>\n",
       "      <td>0.020967</td>\n",
       "      <td>-0.335682</td>\n",
       "    </tr>\n",
       "    <tr>\n",
       "      <th>2</th>\n",
       "      <td>-1.552440</td>\n",
       "      <td>0.671877</td>\n",
       "      <td>0.125505</td>\n",
       "      <td>0.058121</td>\n",
       "      <td>-0.432374</td>\n",
       "      <td>0.088510</td>\n",
       "      <td>0.089124</td>\n",
       "      <td>-0.318422</td>\n",
       "      <td>0.146615</td>\n",
       "      <td>0.016829</td>\n",
       "      <td>...</td>\n",
       "      <td>-0.421448</td>\n",
       "      <td>0.268018</td>\n",
       "      <td>0.000000</td>\n",
       "      <td>0.269911</td>\n",
       "      <td>0.377116</td>\n",
       "      <td>0.271127</td>\n",
       "      <td>0.061116</td>\n",
       "      <td>0.323407</td>\n",
       "      <td>0.132327</td>\n",
       "      <td>0.501386</td>\n",
       "    </tr>\n",
       "    <tr>\n",
       "      <th>3</th>\n",
       "      <td>-1.556871</td>\n",
       "      <td>0.613876</td>\n",
       "      <td>0.113744</td>\n",
       "      <td>0.122933</td>\n",
       "      <td>0.214406</td>\n",
       "      <td>0.117298</td>\n",
       "      <td>0.081000</td>\n",
       "      <td>0.973758</td>\n",
       "      <td>0.129953</td>\n",
       "      <td>0.189296</td>\n",
       "      <td>...</td>\n",
       "      <td>-0.481589</td>\n",
       "      <td>0.000000</td>\n",
       "      <td>0.000000</td>\n",
       "      <td>0.801271</td>\n",
       "      <td>-0.595600</td>\n",
       "      <td>0.056455</td>\n",
       "      <td>0.000000</td>\n",
       "      <td>0.509585</td>\n",
       "      <td>0.000000</td>\n",
       "      <td>0.285638</td>\n",
       "    </tr>\n",
       "    <tr>\n",
       "      <th>4</th>\n",
       "      <td>-0.944294</td>\n",
       "      <td>-0.607014</td>\n",
       "      <td>0.106880</td>\n",
       "      <td>0.130112</td>\n",
       "      <td>-0.334833</td>\n",
       "      <td>0.128805</td>\n",
       "      <td>0.126042</td>\n",
       "      <td>0.415215</td>\n",
       "      <td>0.101269</td>\n",
       "      <td>0.000000</td>\n",
       "      <td>...</td>\n",
       "      <td>0.062209</td>\n",
       "      <td>0.032836</td>\n",
       "      <td>0.011342</td>\n",
       "      <td>0.000000</td>\n",
       "      <td>0.601939</td>\n",
       "      <td>0.110113</td>\n",
       "      <td>0.017013</td>\n",
       "      <td>0.000000</td>\n",
       "      <td>0.065673</td>\n",
       "      <td>-0.520063</td>\n",
       "    </tr>\n",
       "  </tbody>\n",
       "</table>\n",
       "<p>5 rows × 163 columns</p>\n",
       "</div>"
      ],
      "text/plain": [
       "   hog_pca_0  hog_pca_3  Edge_Hist_Bin_6  Edge_Hist_Bin_2  hog_pca_1  \\\n",
       "0  -0.763458  -0.638673         0.038306         0.199623   0.927880   \n",
       "1   1.049284   0.904380         0.047018         0.185522   3.608200   \n",
       "2  -1.552440   0.671877         0.125505         0.058121  -0.432374   \n",
       "3  -1.556871   0.613876         0.113744         0.122933   0.214406   \n",
       "4  -0.944294  -0.607014         0.106880         0.130112  -0.334833   \n",
       "\n",
       "   Edge_Hist_Bin_7  Edge_Hist_Bin_3  hog_pca_2  Edge_Hist_Bin_5  \\\n",
       "0         0.060268         0.256466   0.264329         0.111521   \n",
       "1         0.233097         0.071324  -1.817190         0.112443   \n",
       "2         0.088510         0.089124  -0.318422         0.146615   \n",
       "3         0.117298         0.081000   0.973758         0.129953   \n",
       "4         0.128805         0.126042   0.415215         0.101269   \n",
       "\n",
       "   H_hist_bin_16  ...  hog_pca_16     ch_15  S_hist_bin_14     ch_34  \\\n",
       "0       0.022676  ...   -0.213796  0.054894       0.000000  0.335851   \n",
       "1       0.183350  ...   -0.886182  0.012467       0.000000  0.070214   \n",
       "2       0.016829  ...   -0.421448  0.268018       0.000000  0.269911   \n",
       "3       0.189296  ...   -0.481589  0.000000       0.000000  0.801271   \n",
       "4       0.000000  ...    0.062209  0.032836       0.011342  0.000000   \n",
       "\n",
       "   hog_pca_14     ch_40  V_hist_bin_13     ch_33     ch_17  hog_pca_15  \n",
       "0   -0.979620  0.095503       0.000000  0.002388  0.105810    0.450825  \n",
       "1    0.101737  0.024119       0.000000  0.000000  0.020967   -0.335682  \n",
       "2    0.377116  0.271127       0.061116  0.323407  0.132327    0.501386  \n",
       "3   -0.595600  0.056455       0.000000  0.509585  0.000000    0.285638  \n",
       "4    0.601939  0.110113       0.017013  0.000000  0.065673   -0.520063  \n",
       "\n",
       "[5 rows x 163 columns]"
      ]
     },
     "execution_count": 11,
     "metadata": {},
     "output_type": "execute_result"
    }
   ],
   "source": [
    "X_selected.head()"
   ]
  },
  {
   "cell_type": "code",
   "execution_count": 12,
   "id": "6ab658f8",
   "metadata": {},
   "outputs": [
    {
     "name": "stdout",
     "output_type": "stream",
     "text": [
      "0\n"
     ]
    }
   ],
   "source": [
    "# See if we have any NaN values\n",
    "print(X_selected.isnull().sum().sum())  "
   ]
  },
  {
   "cell_type": "code",
   "execution_count": 17,
   "id": "693a69b9",
   "metadata": {},
   "outputs": [],
   "source": [
    "\n",
    "# Remove constant features, and highly correlated features\n",
    "selector = VarianceThreshold(threshold=0)\n",
    "X_var = selector.fit_transform(X_selected)\n",
    "selected_columns = X_selected.columns[selector.get_support()]\n",
    "\n",
    "# Remove highly correlated features\n",
    "X_var_df = pd.DataFrame(X_var, columns=selected_columns)\n",
    "corr_matrix = X_var_df.corr().abs()\n",
    "upper = corr_matrix.where(np.triu(np.ones(corr_matrix.shape), k=1).astype(bool))\n",
    "to_drop = [column for column in upper.columns if any(upper[column] > 0.95)]\n",
    "X_final = X_var_df.drop(columns=to_drop)\n"
   ]
  },
  {
   "cell_type": "markdown",
   "id": "ea77fdee",
   "metadata": {},
   "source": [
    "## Setup Stacking Pipeline"
   ]
  },
  {
   "cell_type": "code",
   "execution_count": 28,
   "id": "b04dfefe",
   "metadata": {},
   "outputs": [],
   "source": [
    "# Setup K folds for oof predictions\n",
    "n_splits = 5\n",
    "skf = StratifiedKFold(n_splits=n_splits, shuffle=True, random_state=seed)\n",
    "# Generate and store splits\n",
    "splits = list(skf.split(X_final, y))\n",
    "num_classes = len(np.unique(y))"
   ]
  },
  {
   "cell_type": "markdown",
   "id": "25d11cdf",
   "metadata": {},
   "source": [
    "#### 1. SVM"
   ]
  },
  {
   "cell_type": "code",
   "execution_count": 31,
   "id": "77af84f0",
   "metadata": {},
   "outputs": [],
   "source": [
    "# Create pipeline for each model\n",
    "\n",
    "\"\"\"\n",
    "param_grid_svm = {\n",
    "    'svc__C': [1, 5, 10, 100],\n",
    "    'svc__gamma': ['scale'],    \n",
    "}\n",
    "\n",
    "\n",
    "# Grid search for SVM pipeline\n",
    "grid_search_svm = GridSearchCV(\n",
    "    svm_pipeline,\n",
    "    param_grid_svm,\n",
    "    cv= splits,\n",
    "    scoring='accuracy',\n",
    "    verbose=4\n",
    ")\n",
    "\n",
    "grid_search_svm.fit(X_final, y)\n",
    "\"\"\"\n",
    "\n",
    "# SVM pipeline\n",
    "svm_pipeline = Pipeline([\n",
    "    ('scaler', StandardScaler()),\n",
    "    ('svc', SVC(kernel='rbf', C = 5, gamma ='scale', probability=True, random_state=seed))\n",
    "])\n",
    "\n",
    "\n",
    "\n",
    "svm_oof_probs = np.zeros((X_final.shape[0], num_classes))\n",
    "\n",
    "# Fit the model and get out-of-fold predictions\n",
    "# Ensures we are not using the same data for training and validation\n",
    "for train_idx, val_idx in splits:\n",
    "    model = clone(svm_pipeline)\n",
    "    model.fit(X_final.iloc[train_idx], y.iloc[train_idx])\n",
    "    svm_oof_probs[val_idx] = model.predict_proba(X_final.iloc[val_idx])"
   ]
  },
  {
   "cell_type": "markdown",
   "id": "649bdbc4",
   "metadata": {},
   "source": [
    "Code for svm graph"
   ]
  },
  {
   "cell_type": "code",
   "execution_count": null,
   "id": "29721479",
   "metadata": {},
   "outputs": [],
   "source": [
    "\"\"\"# After fitting grid_search_svm or any GridSearchCV object\n",
    "results = grid_search_svm.cv_results_\n",
    "\n",
    "# Example: Plot mean test accuracy for each C value (assuming you varied 'svc__C')\n",
    "C_values = results['param_svc__C'].data\n",
    "mean_scores = results['mean_test_score']\n",
    "\n",
    "plt.figure(figsize=(8, 5))\n",
    "plt.plot(C_values, mean_scores, marker='o')\n",
    "plt.xlabel('SVM: C value')\n",
    "plt.ylabel('Mean CV Accuracy')\n",
    "plt.title('SVM Grid Search: Accuracy vs C')\n",
    "plt.xscale('log')\n",
    "plt.grid(True)\n",
    "plt.show()\n",
    "\n",
    "\n",
    "\n",
    "print(\"Best SVM parameters:\", grid_search_svm.best_params_)\n",
    "print(\"Best SVM accuracy:\", grid_search_svm.best_score_)\n",
    "\n",
    "# Use the best SVM pipeline for stacking\n",
    "svm_pipeline = grid_search_svm.best_estimator_\"\"\"\n",
    "\n"
   ]
  },
  {
   "cell_type": "markdown",
   "id": "1d87fed1",
   "metadata": {},
   "source": [
    "#### 2. RF"
   ]
  },
  {
   "cell_type": "code",
   "execution_count": 32,
   "id": "7a1c2bc0",
   "metadata": {},
   "outputs": [],
   "source": [
    "# === Commented out grid search block ===\n",
    "# param_grid = {\n",
    "#     'rf__n_estimators': [100, 200,300],\n",
    "#     'rf__max_depth': [None, 10, 20],\n",
    "#     'rf__min_samples_split': [2, 5, 10],\n",
    "#     'rf__min_samples_leaf': [1, 2, 4],\n",
    "#     'rf__max_features': ['sqrt', 'log2'],\n",
    "# }\n",
    "\n",
    "# grid_search = GridSearchCV(rf_pipeline, param_grid, cv=splits, scoring='accuracy', verbose=4)\n",
    "# grid_search.fit(X_final, y)\n",
    "# print(\"Best RF params:\", grid_search.best_params_)\n",
    "# print(\"Best RF accuracy:\", grid_search.best_score_)\n",
    "# rf_pipeline = grid_search.best_estimator_\n",
    "\n",
    "\n",
    "# Uses best stacking pipeline\n",
    "rf_pipeline = Pipeline([\n",
    "    ('rf', RandomForestClassifier(\n",
    "        n_estimators=100,\n",
    "        max_depth=None,\n",
    "        min_samples_split=2,\n",
    "        min_samples_leaf=1,\n",
    "        max_features='sqrt',\n",
    "        random_state=seed\n",
    "    ))\n",
    "])\n",
    "\n",
    "\n",
    "# Generate out of fold predicted probabilities for rf\n",
    "rf_oof_probs = np.zeros((X_final.shape[0], num_classes))\n",
    "\n",
    "for train_idx, val_idx in splits:\n",
    "    model = clone(rf_pipeline)\n",
    "    model.fit(X_final.iloc[train_idx], y.iloc[train_idx])\n",
    "    rf_oof_probs[val_idx] = model.predict_proba(X_final.iloc[val_idx])\n",
    "\n"
   ]
  },
  {
   "cell_type": "markdown",
   "id": "755d46d9",
   "metadata": {},
   "source": [
    "#### CNN"
   ]
  },
  {
   "cell_type": "markdown",
   "id": "e240f769",
   "metadata": {},
   "source": [
    "We will train this separately and use its oof probabilities as features for our metamodel"
   ]
  },
  {
   "cell_type": "code",
   "execution_count": 2,
   "id": "37784fd9",
   "metadata": {},
   "outputs": [],
   "source": [
    "X_nn = np.load(\"X_nn.npy\")           # shape: (N, 64, 64, 3), dtype=uint8\n",
    "X_nn = X_nn.astype(np.float32) / 255.0"
   ]
  },
  {
   "cell_type": "code",
   "execution_count": 33,
   "id": "3273e09e",
   "metadata": {},
   "outputs": [
    {
     "name": "stdout",
     "output_type": "stream",
     "text": [
      "X_nn shape: (5488, 64, 64, 3)\n",
      "y shape: (5488,)\n",
      "y dtype: int64\n",
      "X_nn dtype: float32\n",
      "[ 0  1  2  3  4  5  6  7  8  9 10 11 12 13 14 15 16 17 18 19 20 21 22 23\n",
      " 24 25 26 27 28 29 30 31 32 33 34 35 36 37 38 39 40 41 42]\n"
     ]
    }
   ],
   "source": [
    "print(f\"X_nn shape: {X_nn.shape}\")  # (5488, 64, 64, 3)\n",
    "print(f\"y shape: {y.shape}\")        # (5488,)\n",
    "print(f\"y dtype: {y.dtype}\")        # int or int64\n",
    "print(f\"X_nn dtype: {X_nn.dtype}\")  # float32\n",
    "\n",
    "# Check unique labels\n",
    "print(np.unique(y))\n",
    "\n",
    "\n",
    "# Convert to np.int64 and np.float32\n",
    "\n",
    "y_nn = y.astype(np.int64)\n",
    "X_nn = X_nn.astype(np.float32)\n"
   ]
  },
  {
   "cell_type": "code",
   "execution_count": 38,
   "id": "45a71dad",
   "metadata": {},
   "outputs": [
    {
     "name": "stdout",
     "output_type": "stream",
     "text": [
      "\u001b[1m35/35\u001b[0m \u001b[32m━━━━━━━━━━━━━━━━━━━━\u001b[0m\u001b[37m\u001b[0m \u001b[1m0s\u001b[0m 8ms/step\n"
     ]
    },
    {
     "ename": "KeyboardInterrupt",
     "evalue": "",
     "output_type": "error",
     "traceback": [
      "\u001b[1;31m---------------------------------------------------------------------------\u001b[0m",
      "\u001b[1;31mKeyboardInterrupt\u001b[0m                         Traceback (most recent call last)",
      "Cell \u001b[1;32mIn[38], line 28\u001b[0m\n\u001b[0;32m     21\u001b[0m y_val \u001b[38;5;241m=\u001b[39m y_nn\u001b[38;5;241m.\u001b[39miloc[val_idx] \u001b[38;5;28;01mif\u001b[39;00m \u001b[38;5;28mhasattr\u001b[39m(y_nn, \u001b[38;5;124m\"\u001b[39m\u001b[38;5;124miloc\u001b[39m\u001b[38;5;124m\"\u001b[39m) \u001b[38;5;28;01melse\u001b[39;00m y_nn[val_idx]\n\u001b[0;32m     22\u001b[0m model \u001b[38;5;241m=\u001b[39m build_cnn(\n\u001b[0;32m     23\u001b[0m     dropout_rate\u001b[38;5;241m=\u001b[39mfixed_params[\u001b[38;5;124m\"\u001b[39m\u001b[38;5;124mdropout_rate\u001b[39m\u001b[38;5;124m\"\u001b[39m],\n\u001b[0;32m     24\u001b[0m     num_filters\u001b[38;5;241m=\u001b[39mnum_filters,\n\u001b[0;32m     25\u001b[0m     kernel_size\u001b[38;5;241m=\u001b[39mkernel_size,\n\u001b[0;32m     26\u001b[0m     optimizer\u001b[38;5;241m=\u001b[39mfixed_params[\u001b[38;5;124m\"\u001b[39m\u001b[38;5;124moptimizer\u001b[39m\u001b[38;5;124m\"\u001b[39m]\n\u001b[0;32m     27\u001b[0m )\n\u001b[1;32m---> 28\u001b[0m model\u001b[38;5;241m.\u001b[39mfit(X_train, y_train, epochs\u001b[38;5;241m=\u001b[39mfixed_params[\u001b[38;5;124m\"\u001b[39m\u001b[38;5;124mepochs\u001b[39m\u001b[38;5;124m\"\u001b[39m], batch_size\u001b[38;5;241m=\u001b[39m\u001b[38;5;241m32\u001b[39m, verbose\u001b[38;5;241m=\u001b[39m\u001b[38;5;241m0\u001b[39m)\n\u001b[0;32m     29\u001b[0m val_probs \u001b[38;5;241m=\u001b[39m model\u001b[38;5;241m.\u001b[39mpredict(X_val)\n\u001b[0;32m     30\u001b[0m val_preds \u001b[38;5;241m=\u001b[39m val_probs\u001b[38;5;241m.\u001b[39margmax(axis\u001b[38;5;241m=\u001b[39m\u001b[38;5;241m1\u001b[39m)\n",
      "File \u001b[1;32mc:\\Users\\jnako\\anaconda3\\Lib\\site-packages\\keras\\src\\utils\\traceback_utils.py:117\u001b[0m, in \u001b[0;36mfilter_traceback.<locals>.error_handler\u001b[1;34m(*args, **kwargs)\u001b[0m\n\u001b[0;32m    115\u001b[0m filtered_tb \u001b[38;5;241m=\u001b[39m \u001b[38;5;28;01mNone\u001b[39;00m\n\u001b[0;32m    116\u001b[0m \u001b[38;5;28;01mtry\u001b[39;00m:\n\u001b[1;32m--> 117\u001b[0m     \u001b[38;5;28;01mreturn\u001b[39;00m fn(\u001b[38;5;241m*\u001b[39margs, \u001b[38;5;241m*\u001b[39m\u001b[38;5;241m*\u001b[39mkwargs)\n\u001b[0;32m    118\u001b[0m \u001b[38;5;28;01mexcept\u001b[39;00m \u001b[38;5;167;01mException\u001b[39;00m \u001b[38;5;28;01mas\u001b[39;00m e:\n\u001b[0;32m    119\u001b[0m     filtered_tb \u001b[38;5;241m=\u001b[39m _process_traceback_frames(e\u001b[38;5;241m.\u001b[39m__traceback__)\n",
      "File \u001b[1;32mc:\\Users\\jnako\\anaconda3\\Lib\\site-packages\\keras\\src\\backend\\tensorflow\\trainer.py:371\u001b[0m, in \u001b[0;36mTensorFlowTrainer.fit\u001b[1;34m(self, x, y, batch_size, epochs, verbose, callbacks, validation_split, validation_data, shuffle, class_weight, sample_weight, initial_epoch, steps_per_epoch, validation_steps, validation_batch_size, validation_freq)\u001b[0m\n\u001b[0;32m    369\u001b[0m \u001b[38;5;28;01mfor\u001b[39;00m step, iterator \u001b[38;5;129;01min\u001b[39;00m epoch_iterator:\n\u001b[0;32m    370\u001b[0m     callbacks\u001b[38;5;241m.\u001b[39mon_train_batch_begin(step)\n\u001b[1;32m--> 371\u001b[0m     logs \u001b[38;5;241m=\u001b[39m \u001b[38;5;28mself\u001b[39m\u001b[38;5;241m.\u001b[39mtrain_function(iterator)\n\u001b[0;32m    372\u001b[0m     callbacks\u001b[38;5;241m.\u001b[39mon_train_batch_end(step, logs)\n\u001b[0;32m    373\u001b[0m     \u001b[38;5;28;01mif\u001b[39;00m \u001b[38;5;28mself\u001b[39m\u001b[38;5;241m.\u001b[39mstop_training:\n",
      "File \u001b[1;32mc:\\Users\\jnako\\anaconda3\\Lib\\site-packages\\keras\\src\\backend\\tensorflow\\trainer.py:222\u001b[0m, in \u001b[0;36mTensorFlowTrainer._make_function.<locals>.function\u001b[1;34m(iterator)\u001b[0m\n\u001b[0;32m    220\u001b[0m     \u001b[38;5;28;01mif\u001b[39;00m \u001b[38;5;129;01mnot\u001b[39;00m opt_outputs\u001b[38;5;241m.\u001b[39mhas_value():\n\u001b[0;32m    221\u001b[0m         \u001b[38;5;28;01mraise\u001b[39;00m \u001b[38;5;167;01mStopIteration\u001b[39;00m\n\u001b[1;32m--> 222\u001b[0m     \u001b[38;5;28;01mreturn\u001b[39;00m opt_outputs\u001b[38;5;241m.\u001b[39mget_value()\n\u001b[0;32m    223\u001b[0m \u001b[38;5;28;01melse\u001b[39;00m:\n\u001b[0;32m    224\u001b[0m     \u001b[38;5;28;01mfor\u001b[39;00m step, data \u001b[38;5;129;01min\u001b[39;00m \u001b[38;5;28mzip\u001b[39m(\n\u001b[0;32m    225\u001b[0m         \u001b[38;5;28mrange\u001b[39m(\u001b[38;5;28mself\u001b[39m\u001b[38;5;241m.\u001b[39msteps_per_execution), iterator\n\u001b[0;32m    226\u001b[0m     ):\n",
      "File \u001b[1;32mc:\\Users\\jnako\\anaconda3\\Lib\\site-packages\\tensorflow\\python\\data\\ops\\optional_ops.py:186\u001b[0m, in \u001b[0;36m_OptionalImpl.get_value\u001b[1;34m(self, name)\u001b[0m\n\u001b[0;32m    183\u001b[0m \u001b[38;5;28;01mwith\u001b[39;00m ops\u001b[38;5;241m.\u001b[39mname_scope(name, \u001b[38;5;124m\"\u001b[39m\u001b[38;5;124mOptionalGetValue\u001b[39m\u001b[38;5;124m\"\u001b[39m,\n\u001b[0;32m    184\u001b[0m                     [\u001b[38;5;28mself\u001b[39m\u001b[38;5;241m.\u001b[39m_variant_tensor]) \u001b[38;5;28;01mas\u001b[39;00m scope:\n\u001b[0;32m    185\u001b[0m   \u001b[38;5;28;01mwith\u001b[39;00m ops\u001b[38;5;241m.\u001b[39mcolocate_with(\u001b[38;5;28mself\u001b[39m\u001b[38;5;241m.\u001b[39m_variant_tensor):\n\u001b[1;32m--> 186\u001b[0m     result \u001b[38;5;241m=\u001b[39m gen_optional_ops\u001b[38;5;241m.\u001b[39moptional_get_value(\n\u001b[0;32m    187\u001b[0m         \u001b[38;5;28mself\u001b[39m\u001b[38;5;241m.\u001b[39m_variant_tensor,\n\u001b[0;32m    188\u001b[0m         name\u001b[38;5;241m=\u001b[39mscope,\n\u001b[0;32m    189\u001b[0m         output_types\u001b[38;5;241m=\u001b[39mstructure\u001b[38;5;241m.\u001b[39mget_flat_tensor_types(\u001b[38;5;28mself\u001b[39m\u001b[38;5;241m.\u001b[39m_element_spec),\n\u001b[0;32m    190\u001b[0m         output_shapes\u001b[38;5;241m=\u001b[39mstructure\u001b[38;5;241m.\u001b[39mget_flat_tensor_shapes(\u001b[38;5;28mself\u001b[39m\u001b[38;5;241m.\u001b[39m_element_spec),\n\u001b[0;32m    191\u001b[0m     )\n\u001b[0;32m    192\u001b[0m   \u001b[38;5;66;03m# NOTE: We do not colocate the deserialization of composite tensors\u001b[39;00m\n\u001b[0;32m    193\u001b[0m   \u001b[38;5;66;03m# because not all ops are guaranteed to have non-GPU kernels.\u001b[39;00m\n\u001b[0;32m    194\u001b[0m   \u001b[38;5;28;01mreturn\u001b[39;00m structure\u001b[38;5;241m.\u001b[39mfrom_tensor_list(\u001b[38;5;28mself\u001b[39m\u001b[38;5;241m.\u001b[39m_element_spec, result)\n",
      "File \u001b[1;32mc:\\Users\\jnako\\anaconda3\\Lib\\site-packages\\tensorflow\\python\\ops\\gen_optional_ops.py:95\u001b[0m, in \u001b[0;36moptional_get_value\u001b[1;34m(optional, output_types, output_shapes, name)\u001b[0m\n\u001b[0;32m     93\u001b[0m \u001b[38;5;28;01mif\u001b[39;00m tld\u001b[38;5;241m.\u001b[39mis_eager:\n\u001b[0;32m     94\u001b[0m   \u001b[38;5;28;01mtry\u001b[39;00m:\n\u001b[1;32m---> 95\u001b[0m     _result \u001b[38;5;241m=\u001b[39m pywrap_tfe\u001b[38;5;241m.\u001b[39mTFE_Py_FastPathExecute(\n\u001b[0;32m     96\u001b[0m       _ctx, \u001b[38;5;124m\"\u001b[39m\u001b[38;5;124mOptionalGetValue\u001b[39m\u001b[38;5;124m\"\u001b[39m, name, optional, \u001b[38;5;124m\"\u001b[39m\u001b[38;5;124moutput_types\u001b[39m\u001b[38;5;124m\"\u001b[39m,\n\u001b[0;32m     97\u001b[0m       output_types, \u001b[38;5;124m\"\u001b[39m\u001b[38;5;124moutput_shapes\u001b[39m\u001b[38;5;124m\"\u001b[39m, output_shapes)\n\u001b[0;32m     98\u001b[0m     \u001b[38;5;28;01mreturn\u001b[39;00m _result\n\u001b[0;32m     99\u001b[0m   \u001b[38;5;28;01mexcept\u001b[39;00m _core\u001b[38;5;241m.\u001b[39m_NotOkStatusException \u001b[38;5;28;01mas\u001b[39;00m e:\n",
      "\u001b[1;31mKeyboardInterrupt\u001b[0m: "
     ]
    }
   ],
   "source": [
    "from cnn import build_cnn\n",
    "param_grid = {\n",
    "    \"num_filters\": [32, 64],\n",
    "    \"kernel_size\": [3, 5]\n",
    "}\n",
    "fixed_params = {\n",
    "    \"dropout_rate\": 0.3,\n",
    "    \"optimizer\": \"adam\",\n",
    "    \"epochs\": 10\n",
    "}\n",
    "\n",
    "best_score = 0\n",
    "best_params = None\n",
    "\n",
    "for num_filters in param_grid[\"num_filters\"]:\n",
    "    for kernel_size in param_grid[\"kernel_size\"]:\n",
    "        cv_scores = []\n",
    "        for train_idx, val_idx in splits:\n",
    "            X_train, X_val = X_nn[train_idx], X_nn[val_idx]\n",
    "            y_train = y_nn.iloc[train_idx] if hasattr(y_nn, \"iloc\") else y_nn[train_idx]\n",
    "            y_val = y_nn.iloc[val_idx] if hasattr(y_nn, \"iloc\") else y_nn[val_idx]\n",
    "            model = build_cnn(\n",
    "                dropout_rate=fixed_params[\"dropout_rate\"],\n",
    "                num_filters=num_filters,\n",
    "                kernel_size=kernel_size,\n",
    "                optimizer=fixed_params[\"optimizer\"]\n",
    "            )\n",
    "            model.fit(X_train, y_train, epochs=fixed_params[\"epochs\"], batch_size=32, verbose=0)\n",
    "            val_probs = model.predict(X_val)\n",
    "            val_preds = val_probs.argmax(axis=1)\n",
    "            acc = np.mean(val_preds == y_val)\n",
    "            cv_scores.append(acc)\n",
    "        mean_score = np.mean(cv_scores)\n",
    "        print(f\"Params: nf={num_filters}, ks={kernel_size} | CV Acc: {mean_score:.4f}\")\n",
    "        if mean_score > best_score:\n",
    "            best_score = mean_score\n",
    "            best_params = {\n",
    "                \"num_filters\": num_filters,\n",
    "                \"kernel_size\": kernel_size,\n",
    "                **fixed_params\n",
    "            }\n",
    "\n",
    "print(\"Best CNN params:\", best_params)\n",
    "print(\"Best CNN CV accuracy:\", best_score)"
   ]
  },
  {
   "cell_type": "code",
   "execution_count": 36,
   "id": "2b78f7a6",
   "metadata": {},
   "outputs": [
    {
     "name": "stdout",
     "output_type": "stream",
     "text": [
      "Epoch 1/10\n",
      "\u001b[1m138/138\u001b[0m \u001b[32m━━━━━━━━━━━━━━━━━━━━\u001b[0m\u001b[37m\u001b[0m \u001b[1m17s\u001b[0m 93ms/step - accuracy: 0.1607 - loss: 3.2679\n",
      "Epoch 2/10\n",
      "\u001b[1m138/138\u001b[0m \u001b[32m━━━━━━━━━━━━━━━━━━━━\u001b[0m\u001b[37m\u001b[0m \u001b[1m13s\u001b[0m 92ms/step - accuracy: 0.5987 - loss: 1.3817\n",
      "Epoch 3/10\n"
     ]
    },
    {
     "ename": "KeyboardInterrupt",
     "evalue": "",
     "output_type": "error",
     "traceback": [
      "\u001b[1;31m---------------------------------------------------------------------------\u001b[0m",
      "\u001b[1;31mKeyboardInterrupt\u001b[0m                         Traceback (most recent call last)",
      "Cell \u001b[1;32mIn[36], line 12\u001b[0m\n\u001b[0;32m     10\u001b[0m \u001b[38;5;66;03m# Build and train a new CNN for each fold\u001b[39;00m\n\u001b[0;32m     11\u001b[0m cnn_model \u001b[38;5;241m=\u001b[39m build_cnn()\n\u001b[1;32m---> 12\u001b[0m cnn_model\u001b[38;5;241m.\u001b[39mfit(X_train, y_train, epochs\u001b[38;5;241m=\u001b[39m\u001b[38;5;241m10\u001b[39m, batch_size\u001b[38;5;241m=\u001b[39m\u001b[38;5;241m32\u001b[39m, verbose\u001b[38;5;241m=\u001b[39m\u001b[38;5;241m1\u001b[39m)\n\u001b[0;32m     14\u001b[0m \u001b[38;5;66;03m# Predict probabilities for the validation fold\u001b[39;00m\n\u001b[0;32m     15\u001b[0m cnn_oof_probs[val_idx] \u001b[38;5;241m=\u001b[39m cnn_model\u001b[38;5;241m.\u001b[39mpredict(X_val)\n",
      "File \u001b[1;32mc:\\Users\\jnako\\anaconda3\\Lib\\site-packages\\keras\\src\\utils\\traceback_utils.py:117\u001b[0m, in \u001b[0;36mfilter_traceback.<locals>.error_handler\u001b[1;34m(*args, **kwargs)\u001b[0m\n\u001b[0;32m    115\u001b[0m filtered_tb \u001b[38;5;241m=\u001b[39m \u001b[38;5;28;01mNone\u001b[39;00m\n\u001b[0;32m    116\u001b[0m \u001b[38;5;28;01mtry\u001b[39;00m:\n\u001b[1;32m--> 117\u001b[0m     \u001b[38;5;28;01mreturn\u001b[39;00m fn(\u001b[38;5;241m*\u001b[39margs, \u001b[38;5;241m*\u001b[39m\u001b[38;5;241m*\u001b[39mkwargs)\n\u001b[0;32m    118\u001b[0m \u001b[38;5;28;01mexcept\u001b[39;00m \u001b[38;5;167;01mException\u001b[39;00m \u001b[38;5;28;01mas\u001b[39;00m e:\n\u001b[0;32m    119\u001b[0m     filtered_tb \u001b[38;5;241m=\u001b[39m _process_traceback_frames(e\u001b[38;5;241m.\u001b[39m__traceback__)\n",
      "File \u001b[1;32mc:\\Users\\jnako\\anaconda3\\Lib\\site-packages\\keras\\src\\backend\\tensorflow\\trainer.py:369\u001b[0m, in \u001b[0;36mTensorFlowTrainer.fit\u001b[1;34m(self, x, y, batch_size, epochs, verbose, callbacks, validation_split, validation_data, shuffle, class_weight, sample_weight, initial_epoch, steps_per_epoch, validation_steps, validation_batch_size, validation_freq)\u001b[0m\n\u001b[0;32m    367\u001b[0m callbacks\u001b[38;5;241m.\u001b[39mon_epoch_begin(epoch)\n\u001b[0;32m    368\u001b[0m \u001b[38;5;28;01mwith\u001b[39;00m epoch_iterator\u001b[38;5;241m.\u001b[39mcatch_stop_iteration():\n\u001b[1;32m--> 369\u001b[0m     \u001b[38;5;28;01mfor\u001b[39;00m step, iterator \u001b[38;5;129;01min\u001b[39;00m epoch_iterator:\n\u001b[0;32m    370\u001b[0m         callbacks\u001b[38;5;241m.\u001b[39mon_train_batch_begin(step)\n\u001b[0;32m    371\u001b[0m         logs \u001b[38;5;241m=\u001b[39m \u001b[38;5;28mself\u001b[39m\u001b[38;5;241m.\u001b[39mtrain_function(iterator)\n",
      "File \u001b[1;32mc:\\Users\\jnako\\anaconda3\\Lib\\site-packages\\keras\\src\\backend\\tensorflow\\trainer.py:734\u001b[0m, in \u001b[0;36mTFEpochIterator.__next__\u001b[1;34m(self)\u001b[0m\n\u001b[0;32m    733\u001b[0m \u001b[38;5;28;01mdef\u001b[39;00m \u001b[38;5;21m__next__\u001b[39m(\u001b[38;5;28mself\u001b[39m):\n\u001b[1;32m--> 734\u001b[0m     \u001b[38;5;28;01mreturn\u001b[39;00m \u001b[38;5;28mnext\u001b[39m(\u001b[38;5;28mself\u001b[39m\u001b[38;5;241m.\u001b[39m_epoch_iterator)\n",
      "File \u001b[1;32mc:\\Users\\jnako\\anaconda3\\Lib\\site-packages\\keras\\src\\trainers\\epoch_iterator.py:104\u001b[0m, in \u001b[0;36mEpochIterator._enumerate_iterator\u001b[1;34m(self)\u001b[0m\n\u001b[0;32m    102\u001b[0m     \u001b[38;5;28mself\u001b[39m\u001b[38;5;241m.\u001b[39m_current_iterator \u001b[38;5;241m=\u001b[39m \u001b[38;5;28miter\u001b[39m(\u001b[38;5;28mself\u001b[39m\u001b[38;5;241m.\u001b[39m_get_iterator())\n\u001b[0;32m    103\u001b[0m     \u001b[38;5;28mself\u001b[39m\u001b[38;5;241m.\u001b[39m_steps_seen \u001b[38;5;241m=\u001b[39m \u001b[38;5;241m0\u001b[39m\n\u001b[1;32m--> 104\u001b[0m \u001b[38;5;28;01mfor\u001b[39;00m step \u001b[38;5;129;01min\u001b[39;00m \u001b[38;5;28mrange\u001b[39m(\u001b[38;5;241m0\u001b[39m, steps_per_epoch, \u001b[38;5;28mself\u001b[39m\u001b[38;5;241m.\u001b[39msteps_per_execution):\n\u001b[0;32m    105\u001b[0m     \u001b[38;5;28;01mif\u001b[39;00m \u001b[38;5;28mself\u001b[39m\u001b[38;5;241m.\u001b[39m_num_batches \u001b[38;5;129;01mand\u001b[39;00m \u001b[38;5;28mself\u001b[39m\u001b[38;5;241m.\u001b[39m_steps_seen \u001b[38;5;241m>\u001b[39m\u001b[38;5;241m=\u001b[39m \u001b[38;5;28mself\u001b[39m\u001b[38;5;241m.\u001b[39m_num_batches:\n\u001b[0;32m    106\u001b[0m         \u001b[38;5;28;01mif\u001b[39;00m \u001b[38;5;28mself\u001b[39m\u001b[38;5;241m.\u001b[39msteps_per_epoch:\n",
      "\u001b[1;31mKeyboardInterrupt\u001b[0m: "
     ]
    }
   ],
   "source": [
    "from cnn import build_cnn\n",
    "\n",
    "\n",
    "cnn_oof_probs = np.zeros((X_nn.shape[0], num_classes))\n",
    "\n",
    "for train_idx, val_idx in splits:\n",
    "    X_train, X_val = X_nn[train_idx], X_nn[val_idx]\n",
    "    y_train = y_nn.iloc[train_idx] \n",
    "\n",
    "    # Build and train a new CNN for each fold\n",
    "    cnn_model = build_cnn()\n",
    "    cnn_model.fit(X_train, y_train, epochs=10, batch_size=32, verbose=1, validation_data=(X_val, y_nn[val_idx]))\n",
    "\n",
    "    # Predict probabilities for the validation fold\n",
    "    cnn_oof_probs[val_idx] = cnn_model.predict(X_val)\n",
    "\n",
    "# Now concatenate with your tabular features\n",
    "X_stacking = np.concatenate([X_final, cnn_oof_probs], axis=1)"
   ]
  },
  {
   "cell_type": "code",
   "execution_count": 35,
   "id": "d55be633",
   "metadata": {},
   "outputs": [
    {
     "data": {
      "text/plain": [
       "(5488, 43)"
      ]
     },
     "execution_count": 35,
     "metadata": {},
     "output_type": "execute_result"
    }
   ],
   "source": [
    "cnn_oof_probs.shape"
   ]
  },
  {
   "cell_type": "code",
   "execution_count": 18,
   "id": "f89b77b7",
   "metadata": {},
   "outputs": [],
   "source": [
    "X_stacking = np.concatenate([X_final, cnn_oof_probs], axis=1)"
   ]
  },
  {
   "cell_type": "code",
   "execution_count": 58,
   "id": "4f280dc0",
   "metadata": {},
   "outputs": [
    {
     "name": "stdout",
     "output_type": "stream",
     "text": [
      "scikit-learn: 1.6.1\n",
      "scikeras: 0.13.0\n"
     ]
    }
   ],
   "source": [
    "import sklearn\n",
    "import scikeras\n",
    "print(\"scikit-learn:\", sklearn.__version__)\n",
    "print(\"scikeras:\", scikeras.__version__)"
   ]
  },
  {
   "cell_type": "code",
   "execution_count": null,
   "id": "48eabb23",
   "metadata": {},
   "outputs": [],
   "source": [
    "\n",
    "# Define classifiers with pipelines for stacking\n",
    "estimators = [\n",
    "    ('svm', svm_pipeline),\n",
    "    ('rf', rf_pipeline), \n",
    "]\n",
    "\n",
    "# Meta classifier\n",
    "final_classifier = LogisticRegression(random_state=seed, max_iter=1000)"
   ]
  },
  {
   "cell_type": "markdown",
   "id": "036196fd",
   "metadata": {},
   "source": [
    "## Setup Stacking Classifier  "
   ]
  },
  {
   "cell_type": "code",
   "execution_count": null,
   "id": "da3fa16a",
   "metadata": {},
   "outputs": [],
   "source": [
    "# Stratified K-Folds cross-validator \n",
    "# Train the stacking classifier (meta classifier)   \n",
    "stacking_cv = StratifiedKFold(n_splits=5, shuffle=True, random_state=seed)\n",
    "\n"
   ]
  },
  {
   "cell_type": "code",
   "execution_count": null,
   "id": "25496eb8",
   "metadata": {},
   "outputs": [],
   "source": [
    "# Fit the stacking classifier\n",
    "final_classifier.fit(X_stacking, y)"
   ]
  },
  {
   "cell_type": "markdown",
   "id": "8f962041",
   "metadata": {},
   "source": [
    "#### Evaluate each base model"
   ]
  },
  {
   "cell_type": "code",
   "execution_count": null,
   "id": "88210d04",
   "metadata": {},
   "outputs": [
    {
     "name": "stdout",
     "output_type": "stream",
     "text": [
      "Cross-validation accuracy for each model (7-fold):\n",
      "svm: 0.8260 ± 0.0173\n",
      "rf: 0.8234 ± 0.0167\n",
      "lr: 0.7977 ± 0.0105\n"
     ]
    }
   ],
   "source": [
    "# Evaluate base models and stacking model using cross-validation\n",
    "\n",
    "from sklearn.base import clone\n",
    "\n",
    "\n",
    "print(\"Cross-validation accuracy for each model (7-fold):\")\n",
    "for name, estimator in estimators:\n",
    "    model = clone(estimator)\n",
    "    scores = cross_val_score(model, X_final, y, cv = skf, scoring='accuracy')\n",
    "    print(f\"{name}: {scores.mean():.4f} ± {scores.std():.4f}\")\n"
   ]
  },
  {
   "cell_type": "code",
   "execution_count": null,
   "id": "c0e06d9f",
   "metadata": {},
   "outputs": [],
   "source": [
    "# Train meta classifier\n",
    "final"
   ]
  },
  {
   "cell_type": "markdown",
   "id": "54e65fa0",
   "metadata": {},
   "source": [
    "## Validation"
   ]
  },
  {
   "cell_type": "code",
   "execution_count": null,
   "id": "3dec45fa",
   "metadata": {},
   "outputs": [
    {
     "name": "stdout",
     "output_type": "stream",
     "text": [
      "Cross-validation accuracy: 0.8515 ± 0.0102\n"
     ]
    }
   ],
   "source": [
    "# Stacking model (no passthrough)\n",
    "# K folds, shuffle and properly stratified\n",
    "\n",
    "scores = cross_val_score(stacking_clf, X_final, y, cv=5, scoring='accuracy')\n",
    "print(f\"Cross-validation accuracy: {scores.mean():.4f} ± {scores.std():.4f}\")\n",
    "\n"
   ]
  },
  {
   "cell_type": "code",
   "execution_count": null,
   "id": "be284e4b",
   "metadata": {},
   "outputs": [
    {
     "name": "stdout",
     "output_type": "stream",
     "text": [
      "Fitting 5 folds for each of 3 candidates, totalling 15 fits\n",
      "[CV 1/5] END final_estimator__C=10, final_estimator__penalty=l2;, score=0.862 total time= 5.2min\n",
      "[CV 2/5] END final_estimator__C=10, final_estimator__penalty=l2;, score=0.842 total time= 5.6min\n",
      "[CV 3/5] END final_estimator__C=10, final_estimator__penalty=l2;, score=0.877 total time= 4.6min\n",
      "[CV 4/5] END final_estimator__C=10, final_estimator__penalty=l2;, score=0.830 total time= 3.0min\n",
      "[CV 5/5] END final_estimator__C=10, final_estimator__penalty=l2;, score=0.863 total time= 5.0min\n",
      "[CV 1/5] END final_estimator__C=25, final_estimator__penalty=l2;, score=0.862 total time= 4.1min\n",
      "[CV 2/5] END final_estimator__C=25, final_estimator__penalty=l2;, score=0.842 total time= 5.2min\n",
      "[CV 3/5] END final_estimator__C=25, final_estimator__penalty=l2;, score=0.882 total time= 5.9min\n",
      "[CV 4/5] END final_estimator__C=25, final_estimator__penalty=l2;, score=0.833 total time= 5.1min\n",
      "[CV 5/5] END final_estimator__C=25, final_estimator__penalty=l2;, score=0.867 total time= 5.4min\n",
      "[CV 1/5] END final_estimator__C=50, final_estimator__penalty=l2;, score=0.864 total time= 5.5min\n",
      "[CV 2/5] END final_estimator__C=50, final_estimator__penalty=l2;, score=0.840 total time= 5.8min\n",
      "[CV 3/5] END final_estimator__C=50, final_estimator__penalty=l2;, score=0.883 total time= 5.9min\n",
      "[CV 4/5] END final_estimator__C=50, final_estimator__penalty=l2;, score=0.836 total time= 5.7min\n",
      "[CV 5/5] END final_estimator__C=50, final_estimator__penalty=l2;, score=0.869 total time= 5.5min\n",
      "Best meta-model params: {'final_estimator__C': 50, 'final_estimator__penalty': 'l2'}\n",
      "Best stacking accuracy: 0.858233998004161\n"
     ]
    }
   ],
   "source": [
    "# Define parameter grid for the meta-model\n",
    "param_grid = {\n",
    "    'final_estimator__C': [10,25],\n",
    "    'final_estimator__penalty': ['l2']\n",
    "}\n",
    "\n",
    "# Wrap your stacking classifier in GridSearchCV\n",
    "stacking_grid = GridSearchCV(\n",
    "    stacking_clf,\n",
    "    param_grid,\n",
    "    cv=stacking_cv,\n",
    "    scoring='accuracy',\n",
    "    verbose=4\n",
    ")\n",
    "\n",
    "stacking_grid.fit(X_final, y)\n",
    "\n",
    "print(\"Best meta-model params:\", stacking_grid.best_params_)\n",
    "print(\"Best stacking accuracy:\", stacking_grid.best_score_)"
   ]
  }
 ],
 "metadata": {
  "kernelspec": {
   "display_name": "base",
   "language": "python",
   "name": "python3"
  },
  "language_info": {
   "codemirror_mode": {
    "name": "ipython",
    "version": 3
   },
   "file_extension": ".py",
   "mimetype": "text/x-python",
   "name": "python",
   "nbconvert_exporter": "python",
   "pygments_lexer": "ipython3",
   "version": "3.12.7"
  }
 },
 "nbformat": 4,
 "nbformat_minor": 5
}
