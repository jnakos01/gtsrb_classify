{
 "cells": [
  {
   "cell_type": "markdown",
   "id": "04c4e944",
   "metadata": {},
   "source": [
    "## Import libraries and load data\n"
   ]
  },
  {
   "cell_type": "code",
   "execution_count": 153,
   "id": "1f516a6f",
   "metadata": {
    "ExecuteTime": {
     "end_time": "2025-05-19T11:05:21.251842Z",
     "start_time": "2025-05-19T11:05:21.247196Z"
    }
   },
   "outputs": [],
   "source": [
    "import pandas as pd\n",
    "import numpy as np\n",
    "from sklearn.feature_selection import mutual_info_classif\n",
    "from sklearn.feature_selection import VarianceThreshold\n",
    "from sklearn.preprocessing import StandardScaler, OneHotEncoder\n",
    "from sklearn.model_selection import StratifiedKFold, cross_val_score\n",
    "from sklearn.svm import SVC\n",
    "from sklearn.ensemble import RandomForestClassifier\n",
    "from sklearn.ensemble import StackingClassifier\n",
    "from sklearn.pipeline import Pipeline\n",
    "from sklearn.linear_model import LogisticRegression\n",
    "from sklearn.base import clone\n",
    "\n",
    "from sklearn.model_selection import GridSearchCV\n",
    "\n",
    "import matplotlib.pyplot as plt\n",
    "\n",
    "\n",
    "\n",
    "from sklearn.metrics import accuracy_score, mean_squared_error\n",
    "seed = 1462474\n",
    "np.random.seed(seed)"
   ]
  },
  {
   "cell_type": "code",
   "execution_count": 154,
   "id": "6944efaf",
   "metadata": {
    "ExecuteTime": {
     "end_time": "2025-05-19T11:05:21.446540Z",
     "start_time": "2025-05-19T11:05:21.309627Z"
    }
   },
   "outputs": [],
   "source": [
    "data_path = \"data/train/Features/all_features.csv\"\n",
    "train_df = pd.read_csv(data_path) \n"
   ]
  },
  {
   "cell_type": "code",
   "execution_count": 155,
   "id": "f51432f7",
   "metadata": {
    "ExecuteTime": {
     "end_time": "2025-05-19T12:21:31.166450Z",
     "start_time": "2025-05-19T12:21:31.160408Z"
    }
   },
   "outputs": [],
   "source": [
    "# Split the data into features and output\n",
    "y = train_df[\"ClassId\"]\n",
    "X = train_df.drop(columns=[\"ClassId\", \"image_path\", \"id\"])"
   ]
  },
  {
   "cell_type": "markdown",
   "id": "2b7248f6",
   "metadata": {},
   "source": [
    "## Feature Selection"
   ]
  },
  {
   "cell_type": "code",
   "execution_count": 156,
   "id": "0c58431b-5276-44a1-a16b-a528359d4d18",
   "metadata": {
    "ExecuteTime": {
     "end_time": "2025-05-19T11:05:31.253392Z",
     "start_time": "2025-05-19T11:05:21.513005Z"
    }
   },
   "outputs": [
    {
     "name": "stdout",
     "output_type": "stream",
     "text": [
      "hog_pca_0          0.882652\n",
      "hog_pca_3          0.796677\n",
      "Edge_Hist_Bin_6    0.596259\n",
      "Edge_Hist_Bin_2    0.566049\n",
      "hog_pca_1          0.554871\n",
      "Edge_Hist_Bin_7    0.530975\n",
      "Edge_Hist_Bin_3    0.519416\n",
      "hog_pca_2          0.493234\n",
      "Edge_Hist_Bin_5    0.429996\n",
      "H_hist_bin_16      0.402375\n",
      "dtype: float64\n"
     ]
    }
   ],
   "source": [
    "# Since our data is mostly continuous, we will use mutual information to select features\n",
    "\n",
    "# CHANGE NN while testing\n",
    "mi_array = mutual_info_classif(X, y, random_state=0, n_neighbors= 7)\n",
    "\n",
    "# Convert to series\n",
    "mi_series = pd.Series(mi_array, index=X.columns)\n",
    "\n",
    "# Sort features by importance\n",
    "mi_sorted = mi_series.sort_values(ascending=False)\n",
    "\n",
    "# Show top features\n",
    "print(mi_sorted.head(10))  \n",
    "\n",
    "# Select features with values over 0.15\n",
    "top_features = mi_sorted.index[mi_sorted > 0.1]\n",
    "X_selected = X[top_features]\n",
    "\n"
   ]
  },
  {
   "cell_type": "code",
   "execution_count": 157,
   "id": "ec00ecc6",
   "metadata": {
    "ExecuteTime": {
     "end_time": "2025-05-19T11:05:31.322497Z",
     "start_time": "2025-05-19T11:05:31.308600Z"
    }
   },
   "outputs": [
    {
     "data": {
      "text/html": [
       "<div>\n",
       "<style scoped>\n",
       "    .dataframe tbody tr th:only-of-type {\n",
       "        vertical-align: middle;\n",
       "    }\n",
       "\n",
       "    .dataframe tbody tr th {\n",
       "        vertical-align: top;\n",
       "    }\n",
       "\n",
       "    .dataframe thead th {\n",
       "        text-align: right;\n",
       "    }\n",
       "</style>\n",
       "<table border=\"1\" class=\"dataframe\">\n",
       "  <thead>\n",
       "    <tr style=\"text-align: right;\">\n",
       "      <th></th>\n",
       "      <th>hog_pca_0</th>\n",
       "      <th>hog_pca_3</th>\n",
       "      <th>Edge_Hist_Bin_6</th>\n",
       "      <th>Edge_Hist_Bin_2</th>\n",
       "      <th>hog_pca_1</th>\n",
       "      <th>Edge_Hist_Bin_7</th>\n",
       "      <th>Edge_Hist_Bin_3</th>\n",
       "      <th>hog_pca_2</th>\n",
       "      <th>Edge_Hist_Bin_5</th>\n",
       "      <th>H_hist_bin_16</th>\n",
       "      <th>...</th>\n",
       "      <th>hog_pca_16</th>\n",
       "      <th>ch_9</th>\n",
       "      <th>hog_pca_14</th>\n",
       "      <th>ch_34</th>\n",
       "      <th>ch_40</th>\n",
       "      <th>ch_30</th>\n",
       "      <th>ch_2</th>\n",
       "      <th>hog_pca_15</th>\n",
       "      <th>ch_3</th>\n",
       "      <th>ch_33</th>\n",
       "    </tr>\n",
       "  </thead>\n",
       "  <tbody>\n",
       "    <tr>\n",
       "      <th>0</th>\n",
       "      <td>-0.763458</td>\n",
       "      <td>-0.638673</td>\n",
       "      <td>0.038306</td>\n",
       "      <td>0.199623</td>\n",
       "      <td>0.927880</td>\n",
       "      <td>0.060268</td>\n",
       "      <td>0.256466</td>\n",
       "      <td>0.264329</td>\n",
       "      <td>0.111521</td>\n",
       "      <td>0.022676</td>\n",
       "      <td>...</td>\n",
       "      <td>-0.213796</td>\n",
       "      <td>0.129677</td>\n",
       "      <td>-0.979620</td>\n",
       "      <td>0.335851</td>\n",
       "      <td>0.095503</td>\n",
       "      <td>0.000000</td>\n",
       "      <td>0.268901</td>\n",
       "      <td>0.450825</td>\n",
       "      <td>0.355617</td>\n",
       "      <td>0.002388</td>\n",
       "    </tr>\n",
       "    <tr>\n",
       "      <th>1</th>\n",
       "      <td>1.049284</td>\n",
       "      <td>0.904380</td>\n",
       "      <td>0.047018</td>\n",
       "      <td>0.185522</td>\n",
       "      <td>3.608200</td>\n",
       "      <td>0.233097</td>\n",
       "      <td>0.071324</td>\n",
       "      <td>-1.817190</td>\n",
       "      <td>0.112443</td>\n",
       "      <td>0.183350</td>\n",
       "      <td>...</td>\n",
       "      <td>-0.886182</td>\n",
       "      <td>0.018133</td>\n",
       "      <td>0.101737</td>\n",
       "      <td>0.070214</td>\n",
       "      <td>0.024119</td>\n",
       "      <td>0.000000</td>\n",
       "      <td>0.657901</td>\n",
       "      <td>-0.335682</td>\n",
       "      <td>0.641467</td>\n",
       "      <td>0.000000</td>\n",
       "    </tr>\n",
       "    <tr>\n",
       "      <th>2</th>\n",
       "      <td>-1.552440</td>\n",
       "      <td>0.671877</td>\n",
       "      <td>0.125505</td>\n",
       "      <td>0.058121</td>\n",
       "      <td>-0.432374</td>\n",
       "      <td>0.088510</td>\n",
       "      <td>0.089124</td>\n",
       "      <td>-0.318422</td>\n",
       "      <td>0.146615</td>\n",
       "      <td>0.016829</td>\n",
       "      <td>...</td>\n",
       "      <td>-0.421448</td>\n",
       "      <td>0.273625</td>\n",
       "      <td>0.377116</td>\n",
       "      <td>0.269911</td>\n",
       "      <td>0.271127</td>\n",
       "      <td>0.052706</td>\n",
       "      <td>0.385766</td>\n",
       "      <td>0.501386</td>\n",
       "      <td>0.091956</td>\n",
       "      <td>0.323407</td>\n",
       "    </tr>\n",
       "    <tr>\n",
       "      <th>3</th>\n",
       "      <td>-1.556871</td>\n",
       "      <td>0.613876</td>\n",
       "      <td>0.113744</td>\n",
       "      <td>0.122933</td>\n",
       "      <td>0.214406</td>\n",
       "      <td>0.117298</td>\n",
       "      <td>0.081000</td>\n",
       "      <td>0.973758</td>\n",
       "      <td>0.129953</td>\n",
       "      <td>0.189296</td>\n",
       "      <td>...</td>\n",
       "      <td>-0.481589</td>\n",
       "      <td>0.036950</td>\n",
       "      <td>-0.595600</td>\n",
       "      <td>0.801271</td>\n",
       "      <td>0.056455</td>\n",
       "      <td>0.000000</td>\n",
       "      <td>0.947646</td>\n",
       "      <td>0.285638</td>\n",
       "      <td>0.217350</td>\n",
       "      <td>0.509585</td>\n",
       "    </tr>\n",
       "    <tr>\n",
       "      <th>4</th>\n",
       "      <td>-0.944294</td>\n",
       "      <td>-0.607014</td>\n",
       "      <td>0.106880</td>\n",
       "      <td>0.130112</td>\n",
       "      <td>-0.334833</td>\n",
       "      <td>0.128805</td>\n",
       "      <td>0.126042</td>\n",
       "      <td>0.415215</td>\n",
       "      <td>0.101269</td>\n",
       "      <td>0.000000</td>\n",
       "      <td>...</td>\n",
       "      <td>0.062209</td>\n",
       "      <td>0.565515</td>\n",
       "      <td>0.601939</td>\n",
       "      <td>0.000000</td>\n",
       "      <td>0.110113</td>\n",
       "      <td>0.026269</td>\n",
       "      <td>0.000000</td>\n",
       "      <td>-0.520063</td>\n",
       "      <td>0.000000</td>\n",
       "      <td>0.000000</td>\n",
       "    </tr>\n",
       "  </tbody>\n",
       "</table>\n",
       "<p>5 rows × 164 columns</p>\n",
       "</div>"
      ],
      "text/plain": [
       "   hog_pca_0  hog_pca_3  Edge_Hist_Bin_6  Edge_Hist_Bin_2  hog_pca_1  \\\n",
       "0  -0.763458  -0.638673         0.038306         0.199623   0.927880   \n",
       "1   1.049284   0.904380         0.047018         0.185522   3.608200   \n",
       "2  -1.552440   0.671877         0.125505         0.058121  -0.432374   \n",
       "3  -1.556871   0.613876         0.113744         0.122933   0.214406   \n",
       "4  -0.944294  -0.607014         0.106880         0.130112  -0.334833   \n",
       "\n",
       "   Edge_Hist_Bin_7  Edge_Hist_Bin_3  hog_pca_2  Edge_Hist_Bin_5  \\\n",
       "0         0.060268         0.256466   0.264329         0.111521   \n",
       "1         0.233097         0.071324  -1.817190         0.112443   \n",
       "2         0.088510         0.089124  -0.318422         0.146615   \n",
       "3         0.117298         0.081000   0.973758         0.129953   \n",
       "4         0.128805         0.126042   0.415215         0.101269   \n",
       "\n",
       "   H_hist_bin_16  ...  hog_pca_16      ch_9  hog_pca_14     ch_34     ch_40  \\\n",
       "0       0.022676  ...   -0.213796  0.129677   -0.979620  0.335851  0.095503   \n",
       "1       0.183350  ...   -0.886182  0.018133    0.101737  0.070214  0.024119   \n",
       "2       0.016829  ...   -0.421448  0.273625    0.377116  0.269911  0.271127   \n",
       "3       0.189296  ...   -0.481589  0.036950   -0.595600  0.801271  0.056455   \n",
       "4       0.000000  ...    0.062209  0.565515    0.601939  0.000000  0.110113   \n",
       "\n",
       "      ch_30      ch_2  hog_pca_15      ch_3     ch_33  \n",
       "0  0.000000  0.268901    0.450825  0.355617  0.002388  \n",
       "1  0.000000  0.657901   -0.335682  0.641467  0.000000  \n",
       "2  0.052706  0.385766    0.501386  0.091956  0.323407  \n",
       "3  0.000000  0.947646    0.285638  0.217350  0.509585  \n",
       "4  0.026269  0.000000   -0.520063  0.000000  0.000000  \n",
       "\n",
       "[5 rows x 164 columns]"
      ]
     },
     "execution_count": 157,
     "metadata": {},
     "output_type": "execute_result"
    }
   ],
   "source": [
    "X_selected.head()"
   ]
  },
  {
   "cell_type": "code",
   "execution_count": 158,
   "id": "6ab658f8",
   "metadata": {
    "ExecuteTime": {
     "end_time": "2025-05-19T11:05:31.434544Z",
     "start_time": "2025-05-19T11:05:31.428482Z"
    }
   },
   "outputs": [
    {
     "name": "stdout",
     "output_type": "stream",
     "text": [
      "0\n"
     ]
    }
   ],
   "source": [
    "# See if we have any NaN values\n",
    "print(X_selected.isnull().sum().sum())  "
   ]
  },
  {
   "cell_type": "code",
   "execution_count": 159,
   "id": "693a69b9",
   "metadata": {
    "ExecuteTime": {
     "end_time": "2025-05-19T11:05:31.754677Z",
     "start_time": "2025-05-19T11:05:31.476506Z"
    }
   },
   "outputs": [],
   "source": [
    "\n",
    "# Remove constant features, and highly correlated features\n",
    "selector = VarianceThreshold(threshold=0)\n",
    "X_var = selector.fit_transform(X_selected)\n",
    "selected_columns = X_selected.columns[selector.get_support()]\n",
    "\n",
    "# Remove highly correlated features\n",
    "X_var_df = pd.DataFrame(X_var, columns=selected_columns)\n",
    "corr_matrix = X_var_df.corr().abs()\n",
    "upper = corr_matrix.where(np.triu(np.ones(corr_matrix.shape), k=1).astype(bool))\n",
    "to_drop = [column for column in upper.columns if any(upper[column] > 0.95)]\n",
    "X_final = X_var_df.drop(columns=to_drop)\n"
   ]
  },
  {
   "cell_type": "code",
   "execution_count": 160,
   "id": "70b8d08bb4709972",
   "metadata": {
    "ExecuteTime": {
     "end_time": "2025-05-19T12:08:52.512149Z",
     "start_time": "2025-05-19T12:08:52.507264Z"
    }
   },
   "outputs": [
    {
     "data": {
      "text/plain": [
       "Index(['hog_pca_0', 'hog_pca_3', 'Edge_Hist_Bin_6', 'Edge_Hist_Bin_2',\n",
       "       'hog_pca_1', 'Edge_Hist_Bin_7', 'Edge_Hist_Bin_3', 'hog_pca_2',\n",
       "       'Edge_Hist_Bin_5', 'H_hist_bin_16',\n",
       "       ...\n",
       "       'hog_pca_16', 'ch_9', 'hog_pca_14', 'ch_34', 'ch_40', 'ch_30', 'ch_2',\n",
       "       'hog_pca_15', 'ch_3', 'ch_33'],\n",
       "      dtype='object', length=156)"
      ]
     },
     "execution_count": 160,
     "metadata": {},
     "output_type": "execute_result"
    }
   ],
   "source": [
    "# Get X final column names for test data\n",
    "X_final_columns = X_final.columns\n",
    "X_final_columns"
   ]
  },
  {
   "cell_type": "markdown",
   "id": "ea77fdee",
   "metadata": {},
   "source": [
    "## Setup Stacking Pipeline"
   ]
  },
  {
   "cell_type": "code",
   "execution_count": 161,
   "id": "b04dfefe",
   "metadata": {
    "ExecuteTime": {
     "end_time": "2025-05-19T11:05:31.927150Z",
     "start_time": "2025-05-19T11:05:31.921234Z"
    }
   },
   "outputs": [],
   "source": [
    "# Setup K folds for oof predictions\n",
    "n_splits = 5\n",
    "skf = StratifiedKFold(n_splits=n_splits, shuffle=True, random_state=seed)\n",
    "# Generate and store splits\n",
    "splits = list(skf.split(X_final, y))\n",
    "num_classes = len(np.unique(y))"
   ]
  },
  {
   "cell_type": "markdown",
   "id": "25d11cdf",
   "metadata": {},
   "source": [
    "#### 1. SVM"
   ]
  },
  {
   "cell_type": "code",
   "execution_count": 162,
   "id": "35731c4553cdff40",
   "metadata": {
    "ExecuteTime": {
     "end_time": "2025-05-19T11:05:32.057239Z",
     "start_time": "2025-05-19T11:05:32.051743Z"
    }
   },
   "outputs": [],
   "source": [
    "# Calculates accuracy, bias, variance, MSE, and sparse categorical cross-entropy loss\n",
    "from sklearn.metrics import log_loss\n",
    "\n",
    "def sparse_categorical_crossentropy(y_true, y_proba):\n",
    "    # y_true: array-like of shape (n_samples,)\n",
    "    # y_proba: array-like of shape (n_samples, n_classes)\n",
    "    return log_loss(y_true, y_proba, labels=np.arange(y_proba.shape[1]))\n",
    "\n",
    "def calculate_metrics(y_true, y_pred, y_proba):\n",
    "    y_true_onehot = np.eye(num_classes)[y_true]\n",
    "    accuracy = np.mean(y_pred == y_true)\n",
    "    bias2 = np.mean((y_proba - y_true_onehot) ** 2)\n",
    "    variance = np.mean(np.var(y_proba, axis=1))\n",
    "    mse = bias2 + variance\n",
    "    cross_entropy = sparse_categorical_crossentropy(y_true, y_proba)\n",
    "    return accuracy, np.sqrt(bias2), variance, cross_entropy"
   ]
  },
  {
   "cell_type": "code",
   "execution_count": 163,
   "id": "77af84f0",
   "metadata": {
    "ExecuteTime": {
     "end_time": "2025-05-19T11:06:24.406004Z",
     "start_time": "2025-05-19T11:05:32.064223Z"
    }
   },
   "outputs": [
    {
     "name": "stdout",
     "output_type": "stream",
     "text": [
      "SVM Accuracies: [0.8633879781420765, 0.8806921675774135, 0.8788706739526412, 0.8650865998176845, 0.8678213309024613]\n",
      "Mean Accuracy: 0.8712\n",
      "SVM Biases: [0.07099380977963383, 0.0694180229265965, 0.06810788418274377, 0.07018323816080485, 0.07005293562073735]\n",
      "Mean Bias: 0.0698\n",
      "SVM Variances: [0.014204018616744666, 0.013865727754214194, 0.013927436097491754, 0.01410532617506165, 0.013910578142156838]\n",
      "Mean Variance: 0.0140\n",
      "SVM Cross-Entropy Losses: [0.5618294322974211, 0.5518763085912034, 0.5185287938446979, 0.5385448755310718, 0.5490627699989261]\n",
      "Mean Cross-Entropy Loss: 0.5440\n"
     ]
    }
   ],
   "source": [
    "# Create pipeline for each model\n",
    "\n",
    "\"\"\"\n",
    "param_grid_svm = {\n",
    "    'svc__C': [1, 5, 10, 100],\n",
    "    'svc__gamma': ['scale'],    \n",
    "}\n",
    "\n",
    "\n",
    "# Grid search for SVM pipeline\n",
    "grid_search_svm = GridSearchCV(\n",
    "    svm_pipeline,\n",
    "    param_grid_svm,\n",
    "    cv= splits,\n",
    "    scoring='accuracy',\n",
    "    verbose=4\n",
    ")\n",
    "\n",
    "grid_search_svm.fit(X_final, y)\n",
    "\"\"\"\n",
    "\n",
    "# SVM pipeline\n",
    "svm_pipeline = Pipeline([\n",
    "    ('scaler', StandardScaler()),\n",
    "    ('svc', SVC(kernel='rbf', C = 5, gamma ='scale', probability=True, random_state=seed))\n",
    "])\n",
    "\n",
    "\n",
    "\n",
    "svm_oof_probs = np.zeros((X_final.shape[0], num_classes))\n",
    "svm_accuracies, svm_biases, svm_variances, svm_crossentropies = [], [], [], []\n",
    "\n",
    "# Fit the model and get out-of-fold predictions\n",
    "# Ensures we are not using the same data for training and validation\n",
    "for train_idx, val_idx in splits:\n",
    "    svm_model = clone(svm_pipeline)\n",
    "    svm_model.fit(X_final.iloc[train_idx], y.iloc[train_idx])\n",
    "    y_pred = svm_model.predict(X_final.iloc[val_idx])\n",
    "    y_pred_probs = svm_model.predict_proba(X_final.iloc[val_idx])\n",
    "    svm_oof_probs[val_idx] = y_pred_probs\n",
    "\n",
    "    # Calculate performance metrics\n",
    "    acc, bias, var, ce = calculate_metrics(y.iloc[val_idx], y_pred, y_pred_probs)\n",
    "    svm_accuracies.append(acc)\n",
    "    svm_biases.append(bias)\n",
    "    svm_variances.append(var)\n",
    "    svm_crossentropies.append(ce)\n",
    "\n",
    "print(f\"SVM Accuracies: {svm_accuracies}\")\n",
    "print(f\"Mean Accuracy: {np.mean(svm_accuracies):.4f}\")\n",
    "print(f\"SVM Biases: {svm_biases}\")\n",
    "print(f\"Mean Bias: {np.mean(svm_biases):.4f}\")\n",
    "print(f\"SVM Variances: {svm_variances}\")\n",
    "print(f\"Mean Variance: {np.mean(svm_variances):.4f}\")\n",
    "print(f\"SVM Cross-Entropy Losses: {svm_crossentropies}\")\n",
    "print(f\"Mean Cross-Entropy Loss: {np.mean(svm_crossentropies):.4f}\")\n"
   ]
  },
  {
   "cell_type": "markdown",
   "id": "649bdbc4",
   "metadata": {},
   "source": [
    "Code for svm graph"
   ]
  },
  {
   "cell_type": "code",
   "execution_count": 164,
   "id": "29721479",
   "metadata": {
    "ExecuteTime": {
     "end_time": "2025-05-19T11:06:24.470534Z",
     "start_time": "2025-05-19T11:06:24.465193Z"
    }
   },
   "outputs": [
    {
     "data": {
      "text/plain": [
       "'\\nresults = grid_search_svm.cv_results_\\n\\n# Plot mean test accuracy for each C value\\nC_values = results[\\'param_svc__C\\'].data\\nmean_scores = results[\\'mean_test_score\\']\\n\\nplt.figure(figsize=(8, 5))\\nplt.plot(C_values, mean_scores, marker=\\'o\\')\\nplt.xlabel(\\'SVM: C value\\')\\nplt.ylabel(\\'Mean CV Accuracy\\')\\nplt.title(\\'SVM Grid Search: Accuracy vs C\\')\\nplt.xscale(\\'log\\')\\nplt.grid(True)\\nplt.show()\\n\\n\\n\\nprint(\"Best SVM parameters:\", grid_search_svm.best_params_)\\nprint(\"Best SVM accuracy:\", grid_search_svm.best_score_)\\n\\n# Use the best SVM pipeline for stacking\\nsvm_pipeline = grid_search_svm.best_estimator_'"
      ]
     },
     "execution_count": 164,
     "metadata": {},
     "output_type": "execute_result"
    }
   ],
   "source": [
    "\"\"\"\n",
    "results = grid_search_svm.cv_results_\n",
    "\n",
    "# Plot mean test accuracy for each C value\n",
    "C_values = results['param_svc__C'].data\n",
    "mean_scores = results['mean_test_score']\n",
    "\n",
    "plt.figure(figsize=(8, 5))\n",
    "plt.plot(C_values, mean_scores, marker='o')\n",
    "plt.xlabel('SVM: C value')\n",
    "plt.ylabel('Mean CV Accuracy')\n",
    "plt.title('SVM Grid Search: Accuracy vs C')\n",
    "plt.xscale('log')\n",
    "plt.grid(True)\n",
    "plt.show()\n",
    "\n",
    "\n",
    "\n",
    "print(\"Best SVM parameters:\", grid_search_svm.best_params_)\n",
    "print(\"Best SVM accuracy:\", grid_search_svm.best_score_)\n",
    "\n",
    "# Use the best SVM pipeline for stacking\n",
    "svm_pipeline = grid_search_svm.best_estimator_\"\"\"\n",
    "\n"
   ]
  },
  {
   "cell_type": "markdown",
   "id": "1d87fed1",
   "metadata": {},
   "source": [
    "#### 2. RF"
   ]
  },
  {
   "cell_type": "code",
   "execution_count": 165,
   "id": "7a1c2bc0",
   "metadata": {
    "ExecuteTime": {
     "end_time": "2025-05-19T11:28:49.376266Z",
     "start_time": "2025-05-19T11:26:34.794543Z"
    }
   },
   "outputs": [
    {
     "name": "stdout",
     "output_type": "stream",
     "text": [
      "RF Accuracies: [0.8306010928961749, 0.8387978142076503, 0.8324225865209471, 0.8295350957155879, 0.8176845943482224]\n",
      "Mean Accuracy: 0.8298\n",
      "RF Biases: [0.10118599117473713, 0.1018328584425691, 0.10166850385520275, 0.10250704793373537, 0.10366542259934101]\n",
      "Mean Bias: 0.1022\n",
      "RF Variances: [0.0059781125043222305, 0.0058335671893732744, 0.005859107548165158, 0.005731420726569784, 0.005720939975684705]\n",
      "Mean Variance: 0.0058\n",
      "RF Cross-Entropy Losses: [1.0684956938660009, 1.0852161803179308, 1.0724528506669464, 1.0915140080127173, 1.1137000604081098]\n",
      "Mean Cross-Entropy Loss: 1.0863\n"
     ]
    }
   ],
   "source": [
    "# Commented out grid search block\n",
    "# param_grid = {\n",
    "#     'rf__n_estimators': [100, 200,300],\n",
    "#     'rf__max_depth': [None, 10, 20],\n",
    "#     'rf__min_samples_split': [2, 5, 10],\n",
    "#     'rf__min_samples_leaf': [1, 2, 4],\n",
    "#     'rf__max_features': ['sqrt', 'log2'],\n",
    "# }\n",
    "\n",
    "# grid_search = GridSearchCV(rf_pipeline, param_grid, cv=splits, scoring='accuracy', verbose=4)\n",
    "# grid_search.fit(X_final, y)\n",
    "# print(\"Best RF params:\", grid_search.best_params_)\n",
    "# print(\"Best RF accuracy:\", grid_search.best_score_)\n",
    "# rf_pipeline = grid_search.best_estimator_\n",
    "\n",
    "\n",
    "# Uses best stacking pipeline\n",
    "rf_pipeline = Pipeline([\n",
    "    ('rf', RandomForestClassifier(\n",
    "        n_estimators=400,\n",
    "        max_depth=None,\n",
    "        min_samples_split=2,\n",
    "        min_samples_leaf=1,\n",
    "        max_features='sqrt',\n",
    "        random_state=seed\n",
    "    ))\n",
    "])\n",
    "\n",
    "\n",
    "# Generate out of fold predicted probabilities for rf\n",
    "rf_oof_probs = np.zeros((X_final.shape[0], num_classes))\n",
    "rf_accuracies, rf_biases, rf_variances, rf_crossentropies = [], [], [], []\n",
    "\n",
    "for train_idx, val_idx in splits:\n",
    "    rf_model = clone(rf_pipeline)\n",
    "    rf_model.fit(X_final.iloc[train_idx], y.iloc[train_idx])\n",
    "    y_pred = rf_model.predict(X_final.iloc[val_idx])\n",
    "    y_pred_proba = rf_model.predict_proba(X_final.iloc[val_idx])\n",
    "    rf_oof_probs[val_idx] = y_pred_proba\n",
    "\n",
    "    # Calculate metrics\n",
    "    acc, bias, var, ce = calculate_metrics(y.iloc[val_idx], y_pred, y_pred_proba)\n",
    "    rf_accuracies.append(acc)\n",
    "    rf_biases.append(bias)\n",
    "    rf_variances.append(var)\n",
    "    rf_crossentropies.append(ce)\n",
    "\n",
    "print(f\"RF Accuracies: {rf_accuracies}\")\n",
    "print(f\"Mean Accuracy: {np.mean(rf_accuracies):.4f}\")\n",
    "print(f\"RF Biases: {rf_biases}\")\n",
    "print(f\"Mean Bias: {np.mean(rf_biases):.4f}\")\n",
    "print(f\"RF Variances: {rf_variances}\")\n",
    "print(f\"Mean Variance: {np.mean(rf_variances):.4f}\")\n",
    "print(f\"RF Cross-Entropy Losses: {rf_crossentropies}\")\n",
    "print(f\"Mean Cross-Entropy Loss: {np.mean(rf_crossentropies):.4f}\")\n",
    "\n"
   ]
  },
  {
   "cell_type": "markdown",
   "id": "755d46d9",
   "metadata": {},
   "source": [
    "### CNN"
   ]
  },
  {
   "cell_type": "markdown",
   "id": "e240f769",
   "metadata": {},
   "source": [
    "We will train this separately and use its oof probabilities as features for our metamodel"
   ]
  },
  {
   "cell_type": "code",
   "execution_count": 166,
   "id": "37784fd9",
   "metadata": {
    "ExecuteTime": {
     "end_time": "2025-05-19T11:06:55.734331Z",
     "start_time": "2025-05-19T11:06:55.588720Z"
    }
   },
   "outputs": [],
   "source": [
    "X_nn = np.load(\"X_nn.npy\")\n"
   ]
  },
  {
   "cell_type": "code",
   "execution_count": 167,
   "id": "3273e09e",
   "metadata": {
    "ExecuteTime": {
     "end_time": "2025-05-19T12:26:46.373194Z",
     "start_time": "2025-05-19T12:26:46.195600Z"
    }
   },
   "outputs": [
    {
     "name": "stdout",
     "output_type": "stream",
     "text": [
      "X_nn shape: (5488, 64, 64, 3)\n",
      "y shape: (5488,)\n",
      "y dtype: int64\n",
      "X_nn dtype: uint8\n",
      "[ 0  1  2  3  4  5  6  7  8  9 10 11 12 13 14 15 16 17 18 19 20 21 22 23\n",
      " 24 25 26 27 28 29 30 31 32 33 34 35 36 37 38 39 40 41 42]\n"
     ]
    }
   ],
   "source": [
    "\n",
    "print(f\"X_nn shape: {X_nn.shape}\")\n",
    "print(f\"y shape: {y.shape}\")\n",
    "print(f\"y dtype: {y.dtype}\")\n",
    "print(f\"X_nn dtype: {X_nn.dtype}\")\n",
    "\n",
    "# Check unique labels\n",
    "print(np.unique(y))\n",
    "\n",
    "\n",
    "# Convert to np.int64 and np.float32 and normalise X\n",
    "X_nn = X_nn.astype(np.float32) / 255\n",
    "y_nn = y.astype(np.int64)\n",
    "X_nn = X_nn.astype(np.float32)\n"
   ]
  },
  {
   "cell_type": "code",
   "execution_count": 168,
   "id": "45a71dad",
   "metadata": {
    "ExecuteTime": {
     "end_time": "2025-05-19T11:06:55.912735Z",
     "start_time": "2025-05-19T11:06:55.907990Z"
    }
   },
   "outputs": [
    {
     "data": {
      "text/plain": [
       "'from cnn import build_cnn\\nparam_grid = {\\n    \"num_filters\": [32],\\n    \"kernel_size\": [5]\\n}\\nfixed_params = {\\n    \"dropout_rate\": 0.2,\\n    \"optimizer\": \"adam\",\\n    \"epochs\": 10\\n}\\n\\nbest_score = 0\\nbest_params = None\\n\\nfor num_filters in param_grid[\"num_filters\"]:\\n    for kernel_size in param_grid[\"kernel_size\"]:\\n        cv_scores = []\\n        for train_idx, val_idx in splits:\\n            X_train, X_val = X_nn[train_idx], X_nn[val_idx]\\n            y_train = y_nn.iloc[train_idx] if hasattr(y_nn, \"iloc\") else y_nn[train_idx]\\n            y_val = y_nn.iloc[val_idx] if hasattr(y_nn, \"iloc\") else y_nn[val_idx]\\n            model = build_cnn(\\n                dropout_rate=fixed_params[\"dropout_rate\"],\\n                num_filters=num_filters,\\n                kernel_size=kernel_size,\\n                optimizer=fixed_params[\"optimizer\"]\\n            )\\n            model.fit(X_train, y_train, epochs=fixed_params[\"epochs\"], batch_size=32, verbose=0)\\n            val_probs = model.predict(X_val)\\n            val_preds = val_probs.argmax(axis=1)\\n            acc = np.mean(val_preds == y_val)\\n            cv_scores.append(acc)\\n        mean_score = np.mean(cv_scores)\\n        print(f\"Params: nf={num_filters}, ks={kernel_size} | CV Acc: {mean_score:.4f}\")\\n        if mean_score > best_score:\\n            best_score = mean_score\\n            best_params = {\\n                \"num_filters\": num_filters,\\n                \"kernel_size\": kernel_size,\\n                **fixed_params\\n            }\\n\\nprint(\"Best CNN params:\", best_params)\\nprint(\"Best CNN CV accuracy:\", best_score)\\n\\n'"
      ]
     },
     "execution_count": 168,
     "metadata": {},
     "output_type": "execute_result"
    }
   ],
   "source": [
    "\"\"\"from cnn import build_cnn\n",
    "param_grid = {\n",
    "    \"num_filters\": [32],\n",
    "    \"kernel_size\": [5]\n",
    "}\n",
    "fixed_params = {\n",
    "    \"dropout_rate\": 0.2,\n",
    "    \"optimizer\": \"adam\",\n",
    "    \"epochs\": 10\n",
    "}\n",
    "\n",
    "best_score = 0\n",
    "best_params = None\n",
    "\n",
    "for num_filters in param_grid[\"num_filters\"]:\n",
    "    for kernel_size in param_grid[\"kernel_size\"]:\n",
    "        cv_scores = []\n",
    "        for train_idx, val_idx in splits:\n",
    "            X_train, X_val = X_nn[train_idx], X_nn[val_idx]\n",
    "            y_train = y_nn.iloc[train_idx] if hasattr(y_nn, \"iloc\") else y_nn[train_idx]\n",
    "            y_val = y_nn.iloc[val_idx] if hasattr(y_nn, \"iloc\") else y_nn[val_idx]\n",
    "            model = build_cnn(\n",
    "                dropout_rate=fixed_params[\"dropout_rate\"],\n",
    "                num_filters=num_filters,\n",
    "                kernel_size=kernel_size,\n",
    "                optimizer=fixed_params[\"optimizer\"]\n",
    "            )\n",
    "            model.fit(X_train, y_train, epochs=fixed_params[\"epochs\"], batch_size=32, verbose=0)\n",
    "            val_probs = model.predict(X_val)\n",
    "            val_preds = val_probs.argmax(axis=1)\n",
    "            acc = np.mean(val_preds == y_val)\n",
    "            cv_scores.append(acc)\n",
    "        mean_score = np.mean(cv_scores)\n",
    "        print(f\"Params: nf={num_filters}, ks={kernel_size} | CV Acc: {mean_score:.4f}\")\n",
    "        if mean_score > best_score:\n",
    "            best_score = mean_score\n",
    "            best_params = {\n",
    "                \"num_filters\": num_filters,\n",
    "                \"kernel_size\": kernel_size,\n",
    "                **fixed_params\n",
    "            }\n",
    "\n",
    "print(\"Best CNN params:\", best_params)\n",
    "print(\"Best CNN CV accuracy:\", best_score)\n",
    "\n",
    "\"\"\""
   ]
  },
  {
   "cell_type": "code",
   "execution_count": 169,
   "id": "2b78f7a6",
   "metadata": {
    "ExecuteTime": {
     "end_time": "2025-05-19T11:11:25.522126Z",
     "start_time": "2025-05-19T11:06:55.967150Z"
    }
   },
   "outputs": [
    {
     "name": "stdout",
     "output_type": "stream",
     "text": [
      "Epoch 1/10\n",
      "\u001b[1m138/138\u001b[0m \u001b[32m━━━━━━━━━━━━━━━━━━━━\u001b[0m\u001b[37m\u001b[0m \u001b[1m4s\u001b[0m 23ms/step - accuracy: 0.1180 - loss: 3.4501 - val_accuracy: 0.5109 - val_loss: 1.7852\n",
      "Epoch 2/10\n",
      "\u001b[1m138/138\u001b[0m \u001b[32m━━━━━━━━━━━━━━━━━━━━\u001b[0m\u001b[37m\u001b[0m \u001b[1m3s\u001b[0m 23ms/step - accuracy: 0.5612 - loss: 1.5328 - val_accuracy: 0.8179 - val_loss: 0.6463\n",
      "Epoch 3/10\n",
      "\u001b[1m138/138\u001b[0m \u001b[32m━━━━━━━━━━━━━━━━━━━━\u001b[0m\u001b[37m\u001b[0m \u001b[1m3s\u001b[0m 23ms/step - accuracy: 0.7998 - loss: 0.6636 - val_accuracy: 0.9016 - val_loss: 0.3782\n",
      "Epoch 4/10\n",
      "\u001b[1m138/138\u001b[0m \u001b[32m━━━━━━━━━━━━━━━━━━━━\u001b[0m\u001b[37m\u001b[0m \u001b[1m3s\u001b[0m 23ms/step - accuracy: 0.8889 - loss: 0.3601 - val_accuracy: 0.9208 - val_loss: 0.2946\n",
      "Epoch 5/10\n",
      "\u001b[1m138/138\u001b[0m \u001b[32m━━━━━━━━━━━━━━━━━━━━\u001b[0m\u001b[37m\u001b[0m \u001b[1m3s\u001b[0m 24ms/step - accuracy: 0.9185 - loss: 0.2469 - val_accuracy: 0.9454 - val_loss: 0.2381\n",
      "Epoch 6/10\n",
      "\u001b[1m138/138\u001b[0m \u001b[32m━━━━━━━━━━━━━━━━━━━━\u001b[0m\u001b[37m\u001b[0m \u001b[1m3s\u001b[0m 24ms/step - accuracy: 0.9557 - loss: 0.1490 - val_accuracy: 0.9426 - val_loss: 0.2531\n",
      "Epoch 7/10\n",
      "\u001b[1m138/138\u001b[0m \u001b[32m━━━━━━━━━━━━━━━━━━━━\u001b[0m\u001b[37m\u001b[0m \u001b[1m3s\u001b[0m 25ms/step - accuracy: 0.9620 - loss: 0.1138 - val_accuracy: 0.9545 - val_loss: 0.2167\n",
      "Epoch 8/10\n",
      "\u001b[1m138/138\u001b[0m \u001b[32m━━━━━━━━━━━━━━━━━━━━\u001b[0m\u001b[37m\u001b[0m \u001b[1m3s\u001b[0m 24ms/step - accuracy: 0.9712 - loss: 0.0953 - val_accuracy: 0.9454 - val_loss: 0.2553\n",
      "Epoch 9/10\n",
      "\u001b[1m138/138\u001b[0m \u001b[32m━━━━━━━━━━━━━━━━━━━━\u001b[0m\u001b[37m\u001b[0m \u001b[1m4s\u001b[0m 26ms/step - accuracy: 0.9706 - loss: 0.1013 - val_accuracy: 0.9517 - val_loss: 0.2382\n",
      "Epoch 10/10\n",
      "\u001b[1m138/138\u001b[0m \u001b[32m━━━━━━━━━━━━━━━━━━━━\u001b[0m\u001b[37m\u001b[0m \u001b[1m4s\u001b[0m 25ms/step - accuracy: 0.9747 - loss: 0.0807 - val_accuracy: 0.9617 - val_loss: 0.1975\n",
      "\u001b[1m35/35\u001b[0m \u001b[32m━━━━━━━━━━━━━━━━━━━━\u001b[0m\u001b[37m\u001b[0m \u001b[1m0s\u001b[0m 10ms/step\n",
      "Epoch 1/10\n",
      "\u001b[1m138/138\u001b[0m \u001b[32m━━━━━━━━━━━━━━━━━━━━\u001b[0m\u001b[37m\u001b[0m \u001b[1m4s\u001b[0m 26ms/step - accuracy: 0.1100 - loss: 3.4445 - val_accuracy: 0.4399 - val_loss: 2.0223\n",
      "Epoch 2/10\n",
      "\u001b[1m138/138\u001b[0m \u001b[32m━━━━━━━━━━━━━━━━━━━━\u001b[0m\u001b[37m\u001b[0m \u001b[1m3s\u001b[0m 25ms/step - accuracy: 0.5015 - loss: 1.7738 - val_accuracy: 0.7213 - val_loss: 0.9305\n",
      "Epoch 3/10\n",
      "\u001b[1m138/138\u001b[0m \u001b[32m━━━━━━━━━━━━━━━━━━━━\u001b[0m\u001b[37m\u001b[0m \u001b[1m4s\u001b[0m 25ms/step - accuracy: 0.7129 - loss: 0.9014 - val_accuracy: 0.8406 - val_loss: 0.5204\n",
      "Epoch 4/10\n",
      "\u001b[1m138/138\u001b[0m \u001b[32m━━━━━━━━━━━━━━━━━━━━\u001b[0m\u001b[37m\u001b[0m \u001b[1m4s\u001b[0m 25ms/step - accuracy: 0.8350 - loss: 0.5364 - val_accuracy: 0.8998 - val_loss: 0.3163\n",
      "Epoch 5/10\n",
      "\u001b[1m138/138\u001b[0m \u001b[32m━━━━━━━━━━━━━━━━━━━━\u001b[0m\u001b[37m\u001b[0m \u001b[1m3s\u001b[0m 25ms/step - accuracy: 0.8944 - loss: 0.3516 - val_accuracy: 0.9171 - val_loss: 0.2925\n",
      "Epoch 6/10\n",
      "\u001b[1m138/138\u001b[0m \u001b[32m━━━━━━━━━━━━━━━━━━━━\u001b[0m\u001b[37m\u001b[0m \u001b[1m4s\u001b[0m 25ms/step - accuracy: 0.9221 - loss: 0.2604 - val_accuracy: 0.9308 - val_loss: 0.2240\n",
      "Epoch 7/10\n",
      "\u001b[1m138/138\u001b[0m \u001b[32m━━━━━━━━━━━━━━━━━━━━\u001b[0m\u001b[37m\u001b[0m \u001b[1m3s\u001b[0m 25ms/step - accuracy: 0.9396 - loss: 0.2001 - val_accuracy: 0.9499 - val_loss: 0.1770\n",
      "Epoch 8/10\n",
      "\u001b[1m138/138\u001b[0m \u001b[32m━━━━━━━━━━━━━━━━━━━━\u001b[0m\u001b[37m\u001b[0m \u001b[1m3s\u001b[0m 25ms/step - accuracy: 0.9495 - loss: 0.1534 - val_accuracy: 0.9435 - val_loss: 0.1887\n",
      "Epoch 9/10\n",
      "\u001b[1m138/138\u001b[0m \u001b[32m━━━━━━━━━━━━━━━━━━━━\u001b[0m\u001b[37m\u001b[0m \u001b[1m3s\u001b[0m 25ms/step - accuracy: 0.9601 - loss: 0.1399 - val_accuracy: 0.9663 - val_loss: 0.1501\n",
      "Epoch 10/10\n",
      "\u001b[1m138/138\u001b[0m \u001b[32m━━━━━━━━━━━━━━━━━━━━\u001b[0m\u001b[37m\u001b[0m \u001b[1m4s\u001b[0m 27ms/step - accuracy: 0.9634 - loss: 0.1125 - val_accuracy: 0.9545 - val_loss: 0.1600\n",
      "\u001b[1m35/35\u001b[0m \u001b[32m━━━━━━━━━━━━━━━━━━━━\u001b[0m\u001b[37m\u001b[0m \u001b[1m0s\u001b[0m 11ms/step\n",
      "Epoch 1/10\n",
      "\u001b[1m138/138\u001b[0m \u001b[32m━━━━━━━━━━━━━━━━━━━━\u001b[0m\u001b[37m\u001b[0m \u001b[1m5s\u001b[0m 31ms/step - accuracy: 0.1017 - loss: 3.4681 - val_accuracy: 0.4645 - val_loss: 2.0146\n",
      "Epoch 2/10\n",
      "\u001b[1m138/138\u001b[0m \u001b[32m━━━━━━━━━━━━━━━━━━━━\u001b[0m\u001b[37m\u001b[0m \u001b[1m4s\u001b[0m 30ms/step - accuracy: 0.4927 - loss: 1.8141 - val_accuracy: 0.7541 - val_loss: 0.8339\n",
      "Epoch 3/10\n",
      "\u001b[1m138/138\u001b[0m \u001b[32m━━━━━━━━━━━━━━━━━━━━\u001b[0m\u001b[37m\u001b[0m \u001b[1m4s\u001b[0m 30ms/step - accuracy: 0.7550 - loss: 0.8373 - val_accuracy: 0.8798 - val_loss: 0.4408\n",
      "Epoch 4/10\n",
      "\u001b[1m138/138\u001b[0m \u001b[32m━━━━━━━━━━━━━━━━━━━━\u001b[0m\u001b[37m\u001b[0m \u001b[1m4s\u001b[0m 32ms/step - accuracy: 0.8636 - loss: 0.4371 - val_accuracy: 0.9281 - val_loss: 0.2307\n",
      "Epoch 5/10\n",
      "\u001b[1m138/138\u001b[0m \u001b[32m━━━━━━━━━━━━━━━━━━━━\u001b[0m\u001b[37m\u001b[0m \u001b[1m4s\u001b[0m 30ms/step - accuracy: 0.9196 - loss: 0.2680 - val_accuracy: 0.9444 - val_loss: 0.1651\n",
      "Epoch 6/10\n",
      "\u001b[1m138/138\u001b[0m \u001b[32m━━━━━━━━━━━━━━━━━━━━\u001b[0m\u001b[37m\u001b[0m \u001b[1m4s\u001b[0m 31ms/step - accuracy: 0.9476 - loss: 0.1631 - val_accuracy: 0.9399 - val_loss: 0.1759\n",
      "Epoch 7/10\n",
      "\u001b[1m138/138\u001b[0m \u001b[32m━━━━━━━━━━━━━━━━━━━━\u001b[0m\u001b[37m\u001b[0m \u001b[1m4s\u001b[0m 31ms/step - accuracy: 0.9612 - loss: 0.1282 - val_accuracy: 0.9517 - val_loss: 0.1692\n",
      "Epoch 8/10\n",
      "\u001b[1m138/138\u001b[0m \u001b[32m━━━━━━━━━━━━━━━━━━━━\u001b[0m\u001b[37m\u001b[0m \u001b[1m5s\u001b[0m 33ms/step - accuracy: 0.9607 - loss: 0.1227 - val_accuracy: 0.9690 - val_loss: 0.1041\n",
      "Epoch 9/10\n",
      "\u001b[1m138/138\u001b[0m \u001b[32m━━━━━━━━━━━━━━━━━━━━\u001b[0m\u001b[37m\u001b[0m \u001b[1m5s\u001b[0m 34ms/step - accuracy: 0.9780 - loss: 0.0709 - val_accuracy: 0.9608 - val_loss: 0.1398\n",
      "Epoch 10/10\n",
      "\u001b[1m138/138\u001b[0m \u001b[32m━━━━━━━━━━━━━━━━━━━━\u001b[0m\u001b[37m\u001b[0m \u001b[1m5s\u001b[0m 33ms/step - accuracy: 0.9718 - loss: 0.0947 - val_accuracy: 0.9608 - val_loss: 0.1303\n",
      "\u001b[1m35/35\u001b[0m \u001b[32m━━━━━━━━━━━━━━━━━━━━\u001b[0m\u001b[37m\u001b[0m \u001b[1m0s\u001b[0m 13ms/step\n",
      "Epoch 1/10\n",
      "\u001b[1m138/138\u001b[0m \u001b[32m━━━━━━━━━━━━━━━━━━━━\u001b[0m\u001b[37m\u001b[0m \u001b[1m6s\u001b[0m 34ms/step - accuracy: 0.1200 - loss: 3.4594 - val_accuracy: 0.4968 - val_loss: 1.7922\n",
      "Epoch 2/10\n",
      "\u001b[1m138/138\u001b[0m \u001b[32m━━━━━━━━━━━━━━━━━━━━\u001b[0m\u001b[37m\u001b[0m \u001b[1m5s\u001b[0m 34ms/step - accuracy: 0.5237 - loss: 1.7057 - val_accuracy: 0.7849 - val_loss: 0.8571\n",
      "Epoch 3/10\n",
      "\u001b[1m138/138\u001b[0m \u001b[32m━━━━━━━━━━━━━━━━━━━━\u001b[0m\u001b[37m\u001b[0m \u001b[1m5s\u001b[0m 36ms/step - accuracy: 0.7770 - loss: 0.7734 - val_accuracy: 0.8824 - val_loss: 0.3910\n",
      "Epoch 4/10\n",
      "\u001b[1m138/138\u001b[0m \u001b[32m━━━━━━━━━━━━━━━━━━━━\u001b[0m\u001b[37m\u001b[0m \u001b[1m5s\u001b[0m 36ms/step - accuracy: 0.8783 - loss: 0.3989 - val_accuracy: 0.9234 - val_loss: 0.2801\n",
      "Epoch 5/10\n",
      "\u001b[1m138/138\u001b[0m \u001b[32m━━━━━━━━━━━━━━━━━━━━\u001b[0m\u001b[37m\u001b[0m \u001b[1m4s\u001b[0m 32ms/step - accuracy: 0.9044 - loss: 0.3035 - val_accuracy: 0.9480 - val_loss: 0.2126\n",
      "Epoch 6/10\n",
      "\u001b[1m138/138\u001b[0m \u001b[32m━━━━━━━━━━━━━━━━━━━━\u001b[0m\u001b[37m\u001b[0m \u001b[1m3s\u001b[0m 24ms/step - accuracy: 0.9467 - loss: 0.1690 - val_accuracy: 0.9444 - val_loss: 0.2011\n",
      "Epoch 7/10\n",
      "\u001b[1m138/138\u001b[0m \u001b[32m━━━━━━━━━━━━━━━━━━━━\u001b[0m\u001b[37m\u001b[0m \u001b[1m3s\u001b[0m 24ms/step - accuracy: 0.9302 - loss: 0.2231 - val_accuracy: 0.9681 - val_loss: 0.1516\n",
      "Epoch 8/10\n",
      "\u001b[1m138/138\u001b[0m \u001b[32m━━━━━━━━━━━━━━━━━━━━\u001b[0m\u001b[37m\u001b[0m \u001b[1m3s\u001b[0m 25ms/step - accuracy: 0.9718 - loss: 0.0942 - val_accuracy: 0.9745 - val_loss: 0.1453\n",
      "Epoch 9/10\n",
      "\u001b[1m138/138\u001b[0m \u001b[32m━━━━━━━━━━━━━━━━━━━━\u001b[0m\u001b[37m\u001b[0m \u001b[1m4s\u001b[0m 29ms/step - accuracy: 0.9718 - loss: 0.0904 - val_accuracy: 0.9663 - val_loss: 0.1575\n",
      "Epoch 10/10\n",
      "\u001b[1m138/138\u001b[0m \u001b[32m━━━━━━━━━━━━━━━━━━━━\u001b[0m\u001b[37m\u001b[0m \u001b[1m4s\u001b[0m 32ms/step - accuracy: 0.9787 - loss: 0.0634 - val_accuracy: 0.9572 - val_loss: 0.1875\n",
      "\u001b[1m35/35\u001b[0m \u001b[32m━━━━━━━━━━━━━━━━━━━━\u001b[0m\u001b[37m\u001b[0m \u001b[1m0s\u001b[0m 12ms/step\n",
      "Epoch 1/10\n",
      "\u001b[1m138/138\u001b[0m \u001b[32m━━━━━━━━━━━━━━━━━━━━\u001b[0m\u001b[37m\u001b[0m \u001b[1m5s\u001b[0m 32ms/step - accuracy: 0.1029 - loss: 3.4796 - val_accuracy: 0.5624 - val_loss: 1.6861\n",
      "Epoch 2/10\n",
      "\u001b[1m138/138\u001b[0m \u001b[32m━━━━━━━━━━━━━━━━━━━━\u001b[0m\u001b[37m\u001b[0m \u001b[1m5s\u001b[0m 33ms/step - accuracy: 0.6115 - loss: 1.4260 - val_accuracy: 0.8405 - val_loss: 0.6050\n",
      "Epoch 3/10\n",
      "\u001b[1m138/138\u001b[0m \u001b[32m━━━━━━━━━━━━━━━━━━━━\u001b[0m\u001b[37m\u001b[0m \u001b[1m5s\u001b[0m 34ms/step - accuracy: 0.8244 - loss: 0.6083 - val_accuracy: 0.9079 - val_loss: 0.3148\n",
      "Epoch 4/10\n",
      "\u001b[1m138/138\u001b[0m \u001b[32m━━━━━━━━━━━━━━━━━━━━\u001b[0m\u001b[37m\u001b[0m \u001b[1m5s\u001b[0m 33ms/step - accuracy: 0.9048 - loss: 0.3353 - val_accuracy: 0.9480 - val_loss: 0.2014\n",
      "Epoch 5/10\n",
      "\u001b[1m138/138\u001b[0m \u001b[32m━━━━━━━━━━━━━━━━━━━━\u001b[0m\u001b[37m\u001b[0m \u001b[1m5s\u001b[0m 34ms/step - accuracy: 0.9434 - loss: 0.1798 - val_accuracy: 0.9553 - val_loss: 0.1754\n",
      "Epoch 6/10\n",
      "\u001b[1m138/138\u001b[0m \u001b[32m━━━━━━━━━━━━━━━━━━━━\u001b[0m\u001b[37m\u001b[0m \u001b[1m5s\u001b[0m 34ms/step - accuracy: 0.9695 - loss: 0.1022 - val_accuracy: 0.9499 - val_loss: 0.1608\n",
      "Epoch 7/10\n",
      "\u001b[1m138/138\u001b[0m \u001b[32m━━━━━━━━━━━━━━━━━━━━\u001b[0m\u001b[37m\u001b[0m \u001b[1m5s\u001b[0m 35ms/step - accuracy: 0.9646 - loss: 0.1160 - val_accuracy: 0.9635 - val_loss: 0.1357\n",
      "Epoch 8/10\n",
      "\u001b[1m138/138\u001b[0m \u001b[32m━━━━━━━━━━━━━━━━━━━━\u001b[0m\u001b[37m\u001b[0m \u001b[1m5s\u001b[0m 35ms/step - accuracy: 0.9758 - loss: 0.0793 - val_accuracy: 0.9690 - val_loss: 0.1297\n",
      "Epoch 9/10\n",
      "\u001b[1m138/138\u001b[0m \u001b[32m━━━━━━━━━━━━━━━━━━━━\u001b[0m\u001b[37m\u001b[0m \u001b[1m5s\u001b[0m 37ms/step - accuracy: 0.9810 - loss: 0.0590 - val_accuracy: 0.9599 - val_loss: 0.1652\n",
      "Epoch 10/10\n",
      "\u001b[1m138/138\u001b[0m \u001b[32m━━━━━━━━━━━━━━━━━━━━\u001b[0m\u001b[37m\u001b[0m \u001b[1m4s\u001b[0m 26ms/step - accuracy: 0.9843 - loss: 0.0531 - val_accuracy: 0.9663 - val_loss: 0.1341\n",
      "\u001b[1m35/35\u001b[0m \u001b[32m━━━━━━━━━━━━━━━━━━━━\u001b[0m\u001b[37m\u001b[0m \u001b[1m0s\u001b[0m 9ms/step\n",
      "CNN Accuracies: [0.9617486338797814, 0.9544626593806922, 0.9608378870673953, 0.9571558796718322, 0.9662716499544212]\n",
      "Mean Accuracy: 0.9601\n",
      "CNN Biases: [0.03697946033282833, 0.03898598303823827, 0.03708901053111563, 0.0398624776721182, 0.03448202477467772]\n",
      "Mean Bias: 0.0375\n",
      "CNN Variances: [0.021685217, 0.021607544, 0.021643402, 0.021473786, 0.021715695]\n",
      "Mean Variance: 0.0216\n",
      "CNN Cross-Entropy Losses: [0.1880356614925345, 0.15998654841540275, 0.13025436326105672, 0.18753027101186612, 0.13406903783980717]\n",
      "Mean Cross-Entropy Loss: 0.1600\n"
     ]
    }
   ],
   "source": [
    "from cnn import build_cnn\n",
    "\n",
    "cnn_oof_probs = np.zeros((X_nn.shape[0], num_classes))\n",
    "cnn_accuracies, cnn_biases, cnn_variances, cnn_crossentropies = [], [], [], []\n",
    "\n",
    "for train_idx, val_idx in splits:\n",
    "    X_train, X_val = X_nn[train_idx], X_nn[val_idx]\n",
    "    y_train, y_val = y_nn[train_idx], y_nn[val_idx]\n",
    "\n",
    "    # Build and train a new CNN for each fold\n",
    "    cnn_model = build_cnn(\n",
    "                dropout_rate=0.2,\n",
    "                num_filters=32,\n",
    "                kernel_size=5\n",
    "            )\n",
    "    # Fit the model\n",
    "    cnn_model.fit(X_train, y_train, epochs=10, batch_size=32, verbose=1, validation_data=(X_val, y_nn[val_idx]))\n",
    "\n",
    "    # Predict on the validation fold\n",
    "    y_pred_probs = cnn_model.predict(X_val)\n",
    "    # Get the predicted classes\n",
    "    y_pred = y_pred_probs.argmax(axis=1)\n",
    "    # Store the out-of-fold predictions\n",
    "    cnn_oof_probs[val_idx] = y_pred_probs\n",
    "\n",
    "    # Calculate metrics\n",
    "    acc, bias, var, ce = calculate_metrics(y_val, y_pred, y_pred_probs)\n",
    "    cnn_accuracies.append(acc)\n",
    "    cnn_biases.append(bias)\n",
    "    cnn_variances.append(var)\n",
    "    cnn_crossentropies.append(ce)\n",
    "\n",
    "print(f\"CNN Accuracies: {cnn_accuracies}\")\n",
    "print(f\"Mean Accuracy: {np.mean(cnn_accuracies):.4f}\")\n",
    "print(f\"CNN Biases: {cnn_biases}\")\n",
    "print(f\"Mean Bias: {np.mean(cnn_biases):.4f}\")\n",
    "print(f\"CNN Variances: {cnn_variances}\")\n",
    "print(f\"Mean Variance: {np.mean(cnn_variances):.4f}\")\n",
    "print(f\"CNN Cross-Entropy Losses: {cnn_crossentropies}\")\n",
    "print(f\"Mean Cross-Entropy Loss: {np.mean(cnn_crossentropies):.4f}\")\n",
    "\n"
   ]
  },
  {
   "cell_type": "code",
   "execution_count": 170,
   "id": "d55be633",
   "metadata": {
    "ExecuteTime": {
     "end_time": "2025-05-19T11:28:49.465792Z",
     "start_time": "2025-05-19T11:28:49.460545Z"
    }
   },
   "outputs": [],
   "source": [
    "# Now concatenate with tabular features\n",
    "X_stacking = np.concatenate([svm_oof_probs, rf_oof_probs, cnn_oof_probs], axis=1)"
   ]
  },
  {
   "cell_type": "markdown",
   "id": "036196fd",
   "metadata": {},
   "source": [
    "## Setup & Train Stacking Classifier"
   ]
  },
  {
   "cell_type": "code",
   "execution_count": 171,
   "id": "da3fa16a",
   "metadata": {
    "ExecuteTime": {
     "end_time": "2025-05-19T11:28:49.481264Z",
     "start_time": "2025-05-19T11:28:49.477762Z"
    }
   },
   "outputs": [],
   "source": [
    "# Stratified K-Folds cross-validator, different from the one used for base models\n",
    "# so we can train on unbiased predictions\n",
    "stacking_cv = StratifiedKFold(n_splits=5, shuffle=True, random_state=seed + 7)\n"
   ]
  },
  {
   "cell_type": "code",
   "execution_count": 172,
   "id": "c2dfc4a3db1dc92b",
   "metadata": {
    "ExecuteTime": {
     "end_time": "2025-05-19T11:11:25.717470Z",
     "start_time": "2025-05-19T11:11:25.714290Z"
    }
   },
   "outputs": [
    {
     "name": "stdout",
     "output_type": "stream",
     "text": [
      "X_stacking shape: (5488, 129)\n"
     ]
    }
   ],
   "source": [
    "print(f\"X_stacking shape: {X_stacking.shape}\")"
   ]
  },
  {
   "cell_type": "code",
   "execution_count": 173,
   "id": "9ddf329659535b9a",
   "metadata": {
    "ExecuteTime": {
     "end_time": "2025-05-19T11:28:51.146253Z",
     "start_time": "2025-05-19T11:28:49.619322Z"
    }
   },
   "outputs": [
    {
     "name": "stdout",
     "output_type": "stream",
     "text": [
      "Validation Accuracies: [0.97632058287796, 0.970856102003643, 0.9754098360655737, 0.9708295350957156, 0.97538742023701]\n",
      "Mean Accuracy: 0.9738\n",
      "Biases: [0.029321283887853482, 0.03141951399793983, 0.02977982676325855, 0.030899207133407353, 0.030568753886076872]\n",
      "Mean Bias: 0.0304\n",
      "Variances: [0.021622438760832263, 0.0216650178474359, 0.021497890391464283, 0.021536767241778578, 0.021615689147973263]\n",
      "Mean Variance: 0.0216\n",
      "Stacking Cross-Entropy Losses: [0.09728800327747238, 0.11048873977705401, 0.09588311260398208, 0.10429084308763643, 0.10538783508076081]\n",
      "Mean Cross-Entropy Loss: 0.1027\n"
     ]
    }
   ],
   "source": [
    "validation_scores = []\n",
    "stacking_biases =[]\n",
    "stacking_variances = []\n",
    "stacking_accuracies = []\n",
    "stacking_crossentropies = []\n",
    "\n",
    "for train_idx, val_idx in stacking_cv.split(X_stacking, y):\n",
    "    # Split the stacking data\n",
    "    X_train, X_val = X_stacking[train_idx], X_stacking[val_idx]\n",
    "    y_train, y_val = y.iloc[train_idx], y.iloc[val_idx]\n",
    "\n",
    "    # Train the meta-classifier on the training fold\n",
    "    meta_classifier = LogisticRegression(max_iter=1000, random_state=seed, C=10, penalty=\"l2\")\n",
    "    meta_classifier.fit(X_train, y_train)\n",
    "\n",
    "    # Validate on the validation fold\n",
    "    y_pred = meta_classifier.predict(X_val)\n",
    "    y_pred_proba = meta_classifier.predict_proba(X_val)\n",
    "\n",
    "    # Calculate metrics\n",
    "    acc, bias, var, ce = calculate_metrics(y_val, y_pred, y_pred_proba)\n",
    "    stacking_accuracies.append(acc)\n",
    "    stacking_biases.append(bias)\n",
    "    stacking_variances.append(var)\n",
    "    stacking_crossentropies.append(ce)\n",
    "\n",
    "print(f\"Validation Accuracies: {stacking_accuracies}\")\n",
    "print(f\"Mean Accuracy: {np.mean(stacking_accuracies):.4f}\")\n",
    "print(f\"Biases: {stacking_biases}\")\n",
    "print(f\"Mean Bias: {np.mean(stacking_biases):.4f}\")\n",
    "print(f\"Variances: {stacking_variances}\")\n",
    "print(f\"Mean Variance: {np.mean(stacking_variances):.4f}\")\n",
    "print(f\"Stacking Cross-Entropy Losses: {stacking_crossentropies}\")\n",
    "print(f\"Mean Cross-Entropy Loss: {np.mean(stacking_crossentropies):.4f}\")\n"
   ]
  },
  {
   "cell_type": "markdown",
   "id": "de8b75d2acf99c4",
   "metadata": {},
   "source": [
    "### Final Models for Testing"
   ]
  },
  {
   "cell_type": "code",
   "execution_count": 174,
   "id": "85a2e18a062dd9a",
   "metadata": {
    "ExecuteTime": {
     "end_time": "2025-05-19T11:32:03.705073Z",
     "start_time": "2025-05-19T11:28:51.153237Z"
    }
   },
   "outputs": [
    {
     "name": "stdout",
     "output_type": "stream",
     "text": [
      "Epoch 1/10\n",
      "\u001b[1m172/172\u001b[0m \u001b[32m━━━━━━━━━━━━━━━━━━━━\u001b[0m\u001b[37m\u001b[0m \u001b[1m4s\u001b[0m 20ms/step - accuracy: 0.1745 - loss: 3.2057\n",
      "Epoch 2/10\n",
      "\u001b[1m172/172\u001b[0m \u001b[32m━━━━━━━━━━━━━━━━━━━━\u001b[0m\u001b[37m\u001b[0m \u001b[1m4s\u001b[0m 20ms/step - accuracy: 0.6349 - loss: 1.2763\n",
      "Epoch 3/10\n",
      "\u001b[1m172/172\u001b[0m \u001b[32m━━━━━━━━━━━━━━━━━━━━\u001b[0m\u001b[37m\u001b[0m \u001b[1m4s\u001b[0m 22ms/step - accuracy: 0.8359 - loss: 0.5391\n",
      "Epoch 4/10\n",
      "\u001b[1m172/172\u001b[0m \u001b[32m━━━━━━━━━━━━━━━━━━━━\u001b[0m\u001b[37m\u001b[0m \u001b[1m4s\u001b[0m 22ms/step - accuracy: 0.9108 - loss: 0.3101\n",
      "Epoch 5/10\n",
      "\u001b[1m172/172\u001b[0m \u001b[32m━━━━━━━━━━━━━━━━━━━━\u001b[0m\u001b[37m\u001b[0m \u001b[1m4s\u001b[0m 22ms/step - accuracy: 0.9452 - loss: 0.1750\n",
      "Epoch 6/10\n",
      "\u001b[1m172/172\u001b[0m \u001b[32m━━━━━━━━━━━━━━━━━━━━\u001b[0m\u001b[37m\u001b[0m \u001b[1m4s\u001b[0m 22ms/step - accuracy: 0.9559 - loss: 0.1399\n",
      "Epoch 7/10\n",
      "\u001b[1m172/172\u001b[0m \u001b[32m━━━━━━━━━━━━━━━━━━━━\u001b[0m\u001b[37m\u001b[0m \u001b[1m5s\u001b[0m 26ms/step - accuracy: 0.9694 - loss: 0.0986\n",
      "Epoch 8/10\n",
      "\u001b[1m172/172\u001b[0m \u001b[32m━━━━━━━━━━━━━━━━━━━━\u001b[0m\u001b[37m\u001b[0m \u001b[1m5s\u001b[0m 30ms/step - accuracy: 0.9800 - loss: 0.0656\n",
      "Epoch 9/10\n",
      "\u001b[1m172/172\u001b[0m \u001b[32m━━━━━━━━━━━━━━━━━━━━\u001b[0m\u001b[37m\u001b[0m \u001b[1m5s\u001b[0m 30ms/step - accuracy: 0.9797 - loss: 0.0638\n",
      "Epoch 10/10\n",
      "\u001b[1m172/172\u001b[0m \u001b[32m━━━━━━━━━━━━━━━━━━━━\u001b[0m\u001b[37m\u001b[0m \u001b[1m5s\u001b[0m 31ms/step - accuracy: 0.9847 - loss: 0.0532\n"
     ]
    },
    {
     "data": {
      "text/html": [
       "<style>#sk-container-id-2 {\n",
       "  /* Definition of color scheme common for light and dark mode */\n",
       "  --sklearn-color-text: #000;\n",
       "  --sklearn-color-text-muted: #666;\n",
       "  --sklearn-color-line: gray;\n",
       "  /* Definition of color scheme for unfitted estimators */\n",
       "  --sklearn-color-unfitted-level-0: #fff5e6;\n",
       "  --sklearn-color-unfitted-level-1: #f6e4d2;\n",
       "  --sklearn-color-unfitted-level-2: #ffe0b3;\n",
       "  --sklearn-color-unfitted-level-3: chocolate;\n",
       "  /* Definition of color scheme for fitted estimators */\n",
       "  --sklearn-color-fitted-level-0: #f0f8ff;\n",
       "  --sklearn-color-fitted-level-1: #d4ebff;\n",
       "  --sklearn-color-fitted-level-2: #b3dbfd;\n",
       "  --sklearn-color-fitted-level-3: cornflowerblue;\n",
       "\n",
       "  /* Specific color for light theme */\n",
       "  --sklearn-color-text-on-default-background: var(--sg-text-color, var(--theme-code-foreground, var(--jp-content-font-color1, black)));\n",
       "  --sklearn-color-background: var(--sg-background-color, var(--theme-background, var(--jp-layout-color0, white)));\n",
       "  --sklearn-color-border-box: var(--sg-text-color, var(--theme-code-foreground, var(--jp-content-font-color1, black)));\n",
       "  --sklearn-color-icon: #696969;\n",
       "\n",
       "  @media (prefers-color-scheme: dark) {\n",
       "    /* Redefinition of color scheme for dark theme */\n",
       "    --sklearn-color-text-on-default-background: var(--sg-text-color, var(--theme-code-foreground, var(--jp-content-font-color1, white)));\n",
       "    --sklearn-color-background: var(--sg-background-color, var(--theme-background, var(--jp-layout-color0, #111)));\n",
       "    --sklearn-color-border-box: var(--sg-text-color, var(--theme-code-foreground, var(--jp-content-font-color1, white)));\n",
       "    --sklearn-color-icon: #878787;\n",
       "  }\n",
       "}\n",
       "\n",
       "#sk-container-id-2 {\n",
       "  color: var(--sklearn-color-text);\n",
       "}\n",
       "\n",
       "#sk-container-id-2 pre {\n",
       "  padding: 0;\n",
       "}\n",
       "\n",
       "#sk-container-id-2 input.sk-hidden--visually {\n",
       "  border: 0;\n",
       "  clip: rect(1px 1px 1px 1px);\n",
       "  clip: rect(1px, 1px, 1px, 1px);\n",
       "  height: 1px;\n",
       "  margin: -1px;\n",
       "  overflow: hidden;\n",
       "  padding: 0;\n",
       "  position: absolute;\n",
       "  width: 1px;\n",
       "}\n",
       "\n",
       "#sk-container-id-2 div.sk-dashed-wrapped {\n",
       "  border: 1px dashed var(--sklearn-color-line);\n",
       "  margin: 0 0.4em 0.5em 0.4em;\n",
       "  box-sizing: border-box;\n",
       "  padding-bottom: 0.4em;\n",
       "  background-color: var(--sklearn-color-background);\n",
       "}\n",
       "\n",
       "#sk-container-id-2 div.sk-container {\n",
       "  /* jupyter's `normalize.less` sets `[hidden] { display: none; }`\n",
       "     but bootstrap.min.css set `[hidden] { display: none !important; }`\n",
       "     so we also need the `!important` here to be able to override the\n",
       "     default hidden behavior on the sphinx rendered scikit-learn.org.\n",
       "     See: https://github.com/scikit-learn/scikit-learn/issues/21755 */\n",
       "  display: inline-block !important;\n",
       "  position: relative;\n",
       "}\n",
       "\n",
       "#sk-container-id-2 div.sk-text-repr-fallback {\n",
       "  display: none;\n",
       "}\n",
       "\n",
       "div.sk-parallel-item,\n",
       "div.sk-serial,\n",
       "div.sk-item {\n",
       "  /* draw centered vertical line to link estimators */\n",
       "  background-image: linear-gradient(var(--sklearn-color-text-on-default-background), var(--sklearn-color-text-on-default-background));\n",
       "  background-size: 2px 100%;\n",
       "  background-repeat: no-repeat;\n",
       "  background-position: center center;\n",
       "}\n",
       "\n",
       "/* Parallel-specific style estimator block */\n",
       "\n",
       "#sk-container-id-2 div.sk-parallel-item::after {\n",
       "  content: \"\";\n",
       "  width: 100%;\n",
       "  border-bottom: 2px solid var(--sklearn-color-text-on-default-background);\n",
       "  flex-grow: 1;\n",
       "}\n",
       "\n",
       "#sk-container-id-2 div.sk-parallel {\n",
       "  display: flex;\n",
       "  align-items: stretch;\n",
       "  justify-content: center;\n",
       "  background-color: var(--sklearn-color-background);\n",
       "  position: relative;\n",
       "}\n",
       "\n",
       "#sk-container-id-2 div.sk-parallel-item {\n",
       "  display: flex;\n",
       "  flex-direction: column;\n",
       "}\n",
       "\n",
       "#sk-container-id-2 div.sk-parallel-item:first-child::after {\n",
       "  align-self: flex-end;\n",
       "  width: 50%;\n",
       "}\n",
       "\n",
       "#sk-container-id-2 div.sk-parallel-item:last-child::after {\n",
       "  align-self: flex-start;\n",
       "  width: 50%;\n",
       "}\n",
       "\n",
       "#sk-container-id-2 div.sk-parallel-item:only-child::after {\n",
       "  width: 0;\n",
       "}\n",
       "\n",
       "/* Serial-specific style estimator block */\n",
       "\n",
       "#sk-container-id-2 div.sk-serial {\n",
       "  display: flex;\n",
       "  flex-direction: column;\n",
       "  align-items: center;\n",
       "  background-color: var(--sklearn-color-background);\n",
       "  padding-right: 1em;\n",
       "  padding-left: 1em;\n",
       "}\n",
       "\n",
       "\n",
       "/* Toggleable style: style used for estimator/Pipeline/ColumnTransformer box that is\n",
       "clickable and can be expanded/collapsed.\n",
       "- Pipeline and ColumnTransformer use this feature and define the default style\n",
       "- Estimators will overwrite some part of the style using the `sk-estimator` class\n",
       "*/\n",
       "\n",
       "/* Pipeline and ColumnTransformer style (default) */\n",
       "\n",
       "#sk-container-id-2 div.sk-toggleable {\n",
       "  /* Default theme specific background. It is overwritten whether we have a\n",
       "  specific estimator or a Pipeline/ColumnTransformer */\n",
       "  background-color: var(--sklearn-color-background);\n",
       "}\n",
       "\n",
       "/* Toggleable label */\n",
       "#sk-container-id-2 label.sk-toggleable__label {\n",
       "  cursor: pointer;\n",
       "  display: flex;\n",
       "  width: 100%;\n",
       "  margin-bottom: 0;\n",
       "  padding: 0.5em;\n",
       "  box-sizing: border-box;\n",
       "  text-align: center;\n",
       "  align-items: start;\n",
       "  justify-content: space-between;\n",
       "  gap: 0.5em;\n",
       "}\n",
       "\n",
       "#sk-container-id-2 label.sk-toggleable__label .caption {\n",
       "  font-size: 0.6rem;\n",
       "  font-weight: lighter;\n",
       "  color: var(--sklearn-color-text-muted);\n",
       "}\n",
       "\n",
       "#sk-container-id-2 label.sk-toggleable__label-arrow:before {\n",
       "  /* Arrow on the left of the label */\n",
       "  content: \"▸\";\n",
       "  float: left;\n",
       "  margin-right: 0.25em;\n",
       "  color: var(--sklearn-color-icon);\n",
       "}\n",
       "\n",
       "#sk-container-id-2 label.sk-toggleable__label-arrow:hover:before {\n",
       "  color: var(--sklearn-color-text);\n",
       "}\n",
       "\n",
       "/* Toggleable content - dropdown */\n",
       "\n",
       "#sk-container-id-2 div.sk-toggleable__content {\n",
       "  max-height: 0;\n",
       "  max-width: 0;\n",
       "  overflow: hidden;\n",
       "  text-align: left;\n",
       "  /* unfitted */\n",
       "  background-color: var(--sklearn-color-unfitted-level-0);\n",
       "}\n",
       "\n",
       "#sk-container-id-2 div.sk-toggleable__content.fitted {\n",
       "  /* fitted */\n",
       "  background-color: var(--sklearn-color-fitted-level-0);\n",
       "}\n",
       "\n",
       "#sk-container-id-2 div.sk-toggleable__content pre {\n",
       "  margin: 0.2em;\n",
       "  border-radius: 0.25em;\n",
       "  color: var(--sklearn-color-text);\n",
       "  /* unfitted */\n",
       "  background-color: var(--sklearn-color-unfitted-level-0);\n",
       "}\n",
       "\n",
       "#sk-container-id-2 div.sk-toggleable__content.fitted pre {\n",
       "  /* unfitted */\n",
       "  background-color: var(--sklearn-color-fitted-level-0);\n",
       "}\n",
       "\n",
       "#sk-container-id-2 input.sk-toggleable__control:checked~div.sk-toggleable__content {\n",
       "  /* Expand drop-down */\n",
       "  max-height: 200px;\n",
       "  max-width: 100%;\n",
       "  overflow: auto;\n",
       "}\n",
       "\n",
       "#sk-container-id-2 input.sk-toggleable__control:checked~label.sk-toggleable__label-arrow:before {\n",
       "  content: \"▾\";\n",
       "}\n",
       "\n",
       "/* Pipeline/ColumnTransformer-specific style */\n",
       "\n",
       "#sk-container-id-2 div.sk-label input.sk-toggleable__control:checked~label.sk-toggleable__label {\n",
       "  color: var(--sklearn-color-text);\n",
       "  background-color: var(--sklearn-color-unfitted-level-2);\n",
       "}\n",
       "\n",
       "#sk-container-id-2 div.sk-label.fitted input.sk-toggleable__control:checked~label.sk-toggleable__label {\n",
       "  background-color: var(--sklearn-color-fitted-level-2);\n",
       "}\n",
       "\n",
       "/* Estimator-specific style */\n",
       "\n",
       "/* Colorize estimator box */\n",
       "#sk-container-id-2 div.sk-estimator input.sk-toggleable__control:checked~label.sk-toggleable__label {\n",
       "  /* unfitted */\n",
       "  background-color: var(--sklearn-color-unfitted-level-2);\n",
       "}\n",
       "\n",
       "#sk-container-id-2 div.sk-estimator.fitted input.sk-toggleable__control:checked~label.sk-toggleable__label {\n",
       "  /* fitted */\n",
       "  background-color: var(--sklearn-color-fitted-level-2);\n",
       "}\n",
       "\n",
       "#sk-container-id-2 div.sk-label label.sk-toggleable__label,\n",
       "#sk-container-id-2 div.sk-label label {\n",
       "  /* The background is the default theme color */\n",
       "  color: var(--sklearn-color-text-on-default-background);\n",
       "}\n",
       "\n",
       "/* On hover, darken the color of the background */\n",
       "#sk-container-id-2 div.sk-label:hover label.sk-toggleable__label {\n",
       "  color: var(--sklearn-color-text);\n",
       "  background-color: var(--sklearn-color-unfitted-level-2);\n",
       "}\n",
       "\n",
       "/* Label box, darken color on hover, fitted */\n",
       "#sk-container-id-2 div.sk-label.fitted:hover label.sk-toggleable__label.fitted {\n",
       "  color: var(--sklearn-color-text);\n",
       "  background-color: var(--sklearn-color-fitted-level-2);\n",
       "}\n",
       "\n",
       "/* Estimator label */\n",
       "\n",
       "#sk-container-id-2 div.sk-label label {\n",
       "  font-family: monospace;\n",
       "  font-weight: bold;\n",
       "  display: inline-block;\n",
       "  line-height: 1.2em;\n",
       "}\n",
       "\n",
       "#sk-container-id-2 div.sk-label-container {\n",
       "  text-align: center;\n",
       "}\n",
       "\n",
       "/* Estimator-specific */\n",
       "#sk-container-id-2 div.sk-estimator {\n",
       "  font-family: monospace;\n",
       "  border: 1px dotted var(--sklearn-color-border-box);\n",
       "  border-radius: 0.25em;\n",
       "  box-sizing: border-box;\n",
       "  margin-bottom: 0.5em;\n",
       "  /* unfitted */\n",
       "  background-color: var(--sklearn-color-unfitted-level-0);\n",
       "}\n",
       "\n",
       "#sk-container-id-2 div.sk-estimator.fitted {\n",
       "  /* fitted */\n",
       "  background-color: var(--sklearn-color-fitted-level-0);\n",
       "}\n",
       "\n",
       "/* on hover */\n",
       "#sk-container-id-2 div.sk-estimator:hover {\n",
       "  /* unfitted */\n",
       "  background-color: var(--sklearn-color-unfitted-level-2);\n",
       "}\n",
       "\n",
       "#sk-container-id-2 div.sk-estimator.fitted:hover {\n",
       "  /* fitted */\n",
       "  background-color: var(--sklearn-color-fitted-level-2);\n",
       "}\n",
       "\n",
       "/* Specification for estimator info (e.g. \"i\" and \"?\") */\n",
       "\n",
       "/* Common style for \"i\" and \"?\" */\n",
       "\n",
       ".sk-estimator-doc-link,\n",
       "a:link.sk-estimator-doc-link,\n",
       "a:visited.sk-estimator-doc-link {\n",
       "  float: right;\n",
       "  font-size: smaller;\n",
       "  line-height: 1em;\n",
       "  font-family: monospace;\n",
       "  background-color: var(--sklearn-color-background);\n",
       "  border-radius: 1em;\n",
       "  height: 1em;\n",
       "  width: 1em;\n",
       "  text-decoration: none !important;\n",
       "  margin-left: 0.5em;\n",
       "  text-align: center;\n",
       "  /* unfitted */\n",
       "  border: var(--sklearn-color-unfitted-level-1) 1pt solid;\n",
       "  color: var(--sklearn-color-unfitted-level-1);\n",
       "}\n",
       "\n",
       ".sk-estimator-doc-link.fitted,\n",
       "a:link.sk-estimator-doc-link.fitted,\n",
       "a:visited.sk-estimator-doc-link.fitted {\n",
       "  /* fitted */\n",
       "  border: var(--sklearn-color-fitted-level-1) 1pt solid;\n",
       "  color: var(--sklearn-color-fitted-level-1);\n",
       "}\n",
       "\n",
       "/* On hover */\n",
       "div.sk-estimator:hover .sk-estimator-doc-link:hover,\n",
       ".sk-estimator-doc-link:hover,\n",
       "div.sk-label-container:hover .sk-estimator-doc-link:hover,\n",
       ".sk-estimator-doc-link:hover {\n",
       "  /* unfitted */\n",
       "  background-color: var(--sklearn-color-unfitted-level-3);\n",
       "  color: var(--sklearn-color-background);\n",
       "  text-decoration: none;\n",
       "}\n",
       "\n",
       "div.sk-estimator.fitted:hover .sk-estimator-doc-link.fitted:hover,\n",
       ".sk-estimator-doc-link.fitted:hover,\n",
       "div.sk-label-container:hover .sk-estimator-doc-link.fitted:hover,\n",
       ".sk-estimator-doc-link.fitted:hover {\n",
       "  /* fitted */\n",
       "  background-color: var(--sklearn-color-fitted-level-3);\n",
       "  color: var(--sklearn-color-background);\n",
       "  text-decoration: none;\n",
       "}\n",
       "\n",
       "/* Span, style for the box shown on hovering the info icon */\n",
       ".sk-estimator-doc-link span {\n",
       "  display: none;\n",
       "  z-index: 9999;\n",
       "  position: relative;\n",
       "  font-weight: normal;\n",
       "  right: .2ex;\n",
       "  padding: .5ex;\n",
       "  margin: .5ex;\n",
       "  width: min-content;\n",
       "  min-width: 20ex;\n",
       "  max-width: 50ex;\n",
       "  color: var(--sklearn-color-text);\n",
       "  box-shadow: 2pt 2pt 4pt #999;\n",
       "  /* unfitted */\n",
       "  background: var(--sklearn-color-unfitted-level-0);\n",
       "  border: .5pt solid var(--sklearn-color-unfitted-level-3);\n",
       "}\n",
       "\n",
       ".sk-estimator-doc-link.fitted span {\n",
       "  /* fitted */\n",
       "  background: var(--sklearn-color-fitted-level-0);\n",
       "  border: var(--sklearn-color-fitted-level-3);\n",
       "}\n",
       "\n",
       ".sk-estimator-doc-link:hover span {\n",
       "  display: block;\n",
       "}\n",
       "\n",
       "/* \"?\"-specific style due to the `<a>` HTML tag */\n",
       "\n",
       "#sk-container-id-2 a.estimator_doc_link {\n",
       "  float: right;\n",
       "  font-size: 1rem;\n",
       "  line-height: 1em;\n",
       "  font-family: monospace;\n",
       "  background-color: var(--sklearn-color-background);\n",
       "  border-radius: 1rem;\n",
       "  height: 1rem;\n",
       "  width: 1rem;\n",
       "  text-decoration: none;\n",
       "  /* unfitted */\n",
       "  color: var(--sklearn-color-unfitted-level-1);\n",
       "  border: var(--sklearn-color-unfitted-level-1) 1pt solid;\n",
       "}\n",
       "\n",
       "#sk-container-id-2 a.estimator_doc_link.fitted {\n",
       "  /* fitted */\n",
       "  border: var(--sklearn-color-fitted-level-1) 1pt solid;\n",
       "  color: var(--sklearn-color-fitted-level-1);\n",
       "}\n",
       "\n",
       "/* On hover */\n",
       "#sk-container-id-2 a.estimator_doc_link:hover {\n",
       "  /* unfitted */\n",
       "  background-color: var(--sklearn-color-unfitted-level-3);\n",
       "  color: var(--sklearn-color-background);\n",
       "  text-decoration: none;\n",
       "}\n",
       "\n",
       "#sk-container-id-2 a.estimator_doc_link.fitted:hover {\n",
       "  /* fitted */\n",
       "  background-color: var(--sklearn-color-fitted-level-3);\n",
       "}\n",
       "</style><div id=\"sk-container-id-2\" class=\"sk-top-container\"><div class=\"sk-text-repr-fallback\"><pre>LogisticRegression(C=10, max_iter=1000, random_state=1462474)</pre><b>In a Jupyter environment, please rerun this cell to show the HTML representation or trust the notebook. <br />On GitHub, the HTML representation is unable to render, please try loading this page with nbviewer.org.</b></div><div class=\"sk-container\" hidden><div class=\"sk-item\"><div class=\"sk-estimator fitted sk-toggleable\"><input class=\"sk-toggleable__control sk-hidden--visually\" id=\"sk-estimator-id-2\" type=\"checkbox\" checked><label for=\"sk-estimator-id-2\" class=\"sk-toggleable__label fitted sk-toggleable__label-arrow\"><div><div>LogisticRegression</div></div><div><a class=\"sk-estimator-doc-link fitted\" rel=\"noreferrer\" target=\"_blank\" href=\"https://scikit-learn.org/1.6/modules/generated/sklearn.linear_model.LogisticRegression.html\">?<span>Documentation for LogisticRegression</span></a><span class=\"sk-estimator-doc-link fitted\">i<span>Fitted</span></span></div></label><div class=\"sk-toggleable__content fitted\"><pre>LogisticRegression(C=10, max_iter=1000, random_state=1462474)</pre></div> </div></div></div></div>"
      ],
      "text/plain": [
       "LogisticRegression(C=10, max_iter=1000, random_state=1462474)"
      ]
     },
     "execution_count": 174,
     "metadata": {},
     "output_type": "execute_result"
    }
   ],
   "source": [
    "# Retrain base models on the full training data\n",
    "svm_pipeline.fit(X_final, y)\n",
    "rf_pipeline.fit(X_final, y)\n",
    "cnn_model = build_cnn(\n",
    "    dropout_rate=0.2,\n",
    "    num_filters=32,\n",
    "    kernel_size=5\n",
    ")\n",
    "cnn_model.fit(X_nn, y_nn, epochs=10, batch_size=32, verbose=1)\n",
    "\n",
    "# Retrain the meta classifier on the full OOF predictions\n",
    "final_classifier = LogisticRegression(max_iter=1000,\n",
    "                                      random_state=seed, C=10, penalty=\"l2\")\n",
    "final_classifier.fit(X_stacking, y)"
   ]
  },
  {
   "cell_type": "markdown",
   "id": "c9101dba1be3563f",
   "metadata": {},
   "source": [
    "### Read in Test Data"
   ]
  },
  {
   "cell_type": "code",
   "execution_count": 175,
   "id": "84fa5533b00dd98e",
   "metadata": {
    "ExecuteTime": {
     "end_time": "2025-05-19T12:30:26.470296Z",
     "start_time": "2025-05-19T12:30:26.403153Z"
    }
   },
   "outputs": [],
   "source": [
    "test_path = \"data/test/Features/all_features.csv\"\n",
    "test_df = pd.read_csv(test_path)"
   ]
  },
  {
   "cell_type": "code",
   "execution_count": 176,
   "id": "a2b16025dad6dfa0",
   "metadata": {
    "ExecuteTime": {
     "end_time": "2025-05-19T12:31:43.164421Z",
     "start_time": "2025-05-19T12:31:43.100187Z"
    }
   },
   "outputs": [
    {
     "name": "stdout",
     "output_type": "stream",
     "text": [
      "0\n"
     ]
    }
   ],
   "source": [
    "y_test = test_df[\"ClassId\"]\n",
    "X_test = test_df.drop(columns=[\"ClassId\", \"image_path\"])\n",
    "\n",
    "# Check for NaN values\n",
    "print(X_test.isnull().sum().sum())\n",
    "\n",
    "# Get id's\n",
    "test_ids = test_df[\"id\"]\n",
    "\n",
    "# Get the same features as the training data\n",
    "X_test = X_test[X_final_columns]\n",
    "\n",
    "X_test_nn = np.load(\"X_nn_test.npy\")\n",
    "\n",
    "# Convert to np.int64 and np.float32 and normalise\n",
    "X_test_nn = X_test_nn.astype(np.float32) / 255.0\n"
   ]
  },
  {
   "cell_type": "code",
   "execution_count": 177,
   "id": "75c4e6436b086d4c",
   "metadata": {
    "ExecuteTime": {
     "end_time": "2025-05-19T12:31:50.584802Z",
     "start_time": "2025-05-19T12:31:46.404590Z"
    }
   },
   "outputs": [
    {
     "name": "stdout",
     "output_type": "stream",
     "text": [
      "\u001b[1m74/74\u001b[0m \u001b[32m━━━━━━━━━━━━━━━━━━━━\u001b[0m\u001b[37m\u001b[0m \u001b[1m1s\u001b[0m 12ms/step\n"
     ]
    }
   ],
   "source": [
    "# Generate test predictions from base models\n",
    "svm_test_probs = svm_pipeline.predict_proba(X_test)\n",
    "rf_test_probs = rf_pipeline.predict_proba(X_test)\n",
    "cnn_test_probs = cnn_model.predict(X_test_nn)\n"
   ]
  },
  {
   "cell_type": "code",
   "execution_count": 178,
   "id": "5d6e8bd8494651c1",
   "metadata": {
    "ExecuteTime": {
     "end_time": "2025-05-19T12:31:50.668205Z",
     "start_time": "2025-05-19T12:31:50.661993Z"
    }
   },
   "outputs": [],
   "source": [
    "# Combine test predictions into a single feature set\n",
    "X_test_stacking = np.concatenate([svm_test_probs, rf_test_probs, cnn_test_probs], axis=1)\n",
    "\n",
    "# Use the metamodel to predict final test outputs\n",
    "test_predictions = final_classifier.predict(X_test_stacking)"
   ]
  },
  {
   "cell_type": "code",
   "execution_count": 179,
   "id": "ba420dffdca97cf5",
   "metadata": {
    "ExecuteTime": {
     "end_time": "2025-05-19T12:31:50.692164Z",
     "start_time": "2025-05-19T12:31:50.685162Z"
    }
   },
   "outputs": [
    {
     "name": "stdout",
     "output_type": "stream",
     "text": [
      "Submission file saved to submission.csv\n"
     ]
    }
   ],
   "source": [
    "submission_df = pd.DataFrame({\n",
    "    \"id\": test_ids, \n",
    "    \"ClassId\": test_predictions\n",
    "})\n",
    "\n",
    "# Save to CSV\n",
    "submission_file_path = \"submission.csv\"\n",
    "submission_df.to_csv(submission_file_path, index=False)\n",
    "\n",
    "print(f\"Submission file saved to {submission_file_path}\")"
   ]
  },
  {
   "cell_type": "code",
   "execution_count": 180,
   "id": "d264ba0ecacb8ca2",
   "metadata": {
    "ExecuteTime": {
     "end_time": "2025-05-19T12:31:50.789354Z",
     "start_time": "2025-05-19T12:31:50.784859Z"
    }
   },
   "outputs": [
    {
     "data": {
      "text/plain": [
       "(2353, 2)"
      ]
     },
     "execution_count": 180,
     "metadata": {},
     "output_type": "execute_result"
    }
   ],
   "source": [
    "submission_df.shape"
   ]
  }
 ],
 "metadata": {
  "kernelspec": {
   "display_name": "base",
   "language": "python",
   "name": "python3"
  },
  "language_info": {
   "codemirror_mode": {
    "name": "ipython",
    "version": 3
   },
   "file_extension": ".py",
   "mimetype": "text/x-python",
   "name": "python",
   "nbconvert_exporter": "python",
   "pygments_lexer": "ipython3",
   "version": "3.12.7"
  }
 },
 "nbformat": 4,
 "nbformat_minor": 5
}
